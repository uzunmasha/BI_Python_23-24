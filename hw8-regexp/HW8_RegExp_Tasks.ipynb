{
 "cells": [
  {
   "cell_type": "markdown",
   "id": "e2175239-8768-448b-bc29-463945c68b31",
   "metadata": {},
   "source": [
    "# <center>  Python for biologists"
   ]
  },
  {
   "cell_type": "markdown",
   "id": "403eefa7-434f-4064-964f-fb57308955d8",
   "metadata": {},
   "source": [
    "## Homework 8, Regular Expressions"
   ]
  },
  {
   "cell_type": "markdown",
   "id": "142bbe8d-bf1e-43ca-9919-f6b6753976c0",
   "metadata": {},
   "source": [
    "***Notion 0***. Feel free to start using shortcuts when working with Jupyter Notebook:\n",
    "- To run the cell `Ctrl`+`Enter`\n",
    "- To run the cell and step to the next one `Shift` + `Enter`\n",
    "- To run the cell and create the new one `Alt` + `Enter`\n",
    "\n",
    "There are two modes of action: cell-editing (the line on the left is green) and cell-selecting (the line on the left is blue). \n",
    "\n",
    "- cell-editing mode &#8594; `Esc` &#8594; cell-selecting mode\n",
    "- cell-selecting mode &#8594; `Enter` &#8594; cell-editing mode\n",
    "\n",
    "In cell-selecting mode you can:\n",
    "\n",
    "- Delete  a cell - `DD`\n",
    "- Undo deleting - `Z`\n"
   ]
  },
  {
   "cell_type": "markdown",
   "id": "880a5f9e-5413-4f3b-b1f0-0bd2fd6c432f",
   "metadata": {},
   "source": [
    "---"
   ]
  },
  {
   "cell_type": "markdown",
   "id": "bd0bc3cd-cb27-438c-a77f-39b405db3086",
   "metadata": {},
   "source": [
    "## Правила\n",
    "\n",
    "- За каждое задание **0.4 балла**\n",
    "- От вас требуется только написать значение переменной pattern\n",
    "- Остальной код в ноутбуке трогать запрещено\n",
    "- Смотрите чтобы ваша регулярка подходила под то что нужно и **не** подходила под то что не нужно\n",
    "- Советую всё проверять в [regex101.com](https://regex101.com/), можете выбрать в меню слева `python` (и русский язык в настройках)"
   ]
  },
  {
   "cell_type": "markdown",
   "id": "85ccb1fe-183c-4c04-8b23-acd0010c5847",
   "metadata": {},
   "source": [
    "#### Погнали!\n",
    "\n",
    "---"
   ]
  },
  {
   "cell_type": "code",
   "execution_count": 1,
   "id": "0f66ca02-29da-4bca-863b-c2f6be6fda73",
   "metadata": {
    "slideshow": {
     "slide_type": ""
    },
    "tags": []
   },
   "outputs": [],
   "source": [
    "import re"
   ]
  },
  {
   "cell_type": "markdown",
   "id": "5592a260-3342-4878-8085-cfd5104ed8ea",
   "metadata": {
    "slideshow": {
     "slide_type": ""
    },
    "tags": []
   },
   "source": [
    "#### **Задание 1**\n",
    "\n",
    "*это пример*\n",
    "\n",
    "Получите фразу `['Ваш текст']`\n",
    "\n",
    "> Simple is better then complex <br/>\n",
    "> *(c) Дзен Python*\n"
   ]
  },
  {
   "cell_type": "code",
   "execution_count": 10,
   "id": "90782e72-5249-46c6-9e80-238fbebab2ac",
   "metadata": {},
   "outputs": [],
   "source": [
    "pattern = r'Ваш текст' # ( <- это ответ)"
   ]
  },
  {
   "cell_type": "code",
   "execution_count": 11,
   "id": "616d0138-ac86-496f-9c07-2b632b603327",
   "metadata": {
    "editable": false,
    "slideshow": {
     "slide_type": ""
    },
    "tags": []
   },
   "outputs": [
    {
     "name": "stdout",
     "output_type": "stream",
     "text": [
      "['Ваш текст']\n"
     ]
    }
   ],
   "source": [
    "text = 'Ваш текст'\n",
    "print(re.findall(pattern = pattern, string = text))"
   ]
  },
  {
   "cell_type": "markdown",
   "id": "cacfc843-1778-457c-bb9f-1e5a7509d63a",
   "metadata": {},
   "source": [
    " "
   ]
  },
  {
   "cell_type": "markdown",
   "id": "7fb868b6-44f4-4048-af29-0f8004b1f62f",
   "metadata": {
    "slideshow": {
     "slide_type": ""
    },
    "tags": []
   },
   "source": [
    "#### **Задание 2**\n",
    "\n",
    "Получите все цифры в строке (в чем разница между цифрами и числами?).\n",
    "\n",
    "Ответ: `['2', '5', '1', '2']`\n"
   ]
  },
  {
   "cell_type": "code",
   "execution_count": 12,
   "id": "087055a5-a083-4e9e-af80-89cb891fc6f6",
   "metadata": {},
   "outputs": [],
   "source": [
    "pattern = r\"\\d\""
   ]
  },
  {
   "cell_type": "code",
   "execution_count": 13,
   "id": "4881de98-aa5f-479a-8fdb-ef2e7381d926",
   "metadata": {
    "editable": false,
    "slideshow": {
     "slide_type": ""
    },
    "tags": []
   },
   "outputs": [
    {
     "name": "stdout",
     "output_type": "stream",
     "text": [
      "['2', '5', '1', '2']\n"
     ]
    }
   ],
   "source": [
    "text = 'Никто не подскажет, какова масса 25 атомов  углерода-12 в дальтонах?'\n",
    "print(re.findall(pattern = pattern, string = text))"
   ]
  },
  {
   "cell_type": "markdown",
   "id": "c427d65a-bd5b-432e-b3c3-c5dd69b4025d",
   "metadata": {},
   "source": [
    " "
   ]
  },
  {
   "cell_type": "markdown",
   "id": "ccb3d61b-9f2f-478f-bb61-c085094c8d32",
   "metadata": {},
   "source": [
    "#### **Задание 3**\n",
    "\n",
    "Получите все буквы в строке.\n",
    "\n",
    "Ответ: `['О', 'л', 'ь', 'г', 'а']`\n"
   ]
  },
  {
   "cell_type": "code",
   "execution_count": 14,
   "id": "3b156cb8-cde0-4133-bb39-cf08a8215f76",
   "metadata": {},
   "outputs": [],
   "source": [
    "pattern = r\"[а-яА-Я]\""
   ]
  },
  {
   "cell_type": "code",
   "execution_count": 15,
   "id": "77d3399e-cf73-4ea4-ad02-c0d8c19c9edd",
   "metadata": {
    "editable": false,
    "slideshow": {
     "slide_type": ""
    },
    "tags": []
   },
   "outputs": [
    {
     "name": "stdout",
     "output_type": "stream",
     "text": [
      "['О', 'л', 'ь', 'г', 'а']\n"
     ]
    }
   ],
   "source": [
    "text = 'Ольга'\n",
    "print(re.findall(pattern = pattern, string = text))"
   ]
  },
  {
   "cell_type": "markdown",
   "id": "972ec240-992a-4218-9411-8d2332cf18cd",
   "metadata": {},
   "source": [
    " "
   ]
  },
  {
   "cell_type": "markdown",
   "id": "ece1ebf4-788e-4dfb-a8eb-36a46ea8d27c",
   "metadata": {},
   "source": [
    "##### **Доп. задание**\n",
    "\n",
    "Задание выше - отсылка к [этому курсу](https://stepik.org/course/67/syllabus) на Stepik. В чем заключается отсылка? \n"
   ]
  },
  {
   "cell_type": "code",
   "execution_count": 8,
   "id": "3c954252-1aeb-4154-9f8d-27bb7db1719d",
   "metadata": {},
   "outputs": [],
   "source": [
    "#>Ольгу добавляли к списку студентов"
   ]
  },
  {
   "cell_type": "markdown",
   "id": "97df4846-d5c8-481a-b00f-8b5a952fc116",
   "metadata": {},
   "source": [
    " "
   ]
  },
  {
   "cell_type": "markdown",
   "id": "045df2af-8f45-4040-aa2e-c3366e28c892",
   "metadata": {},
   "source": [
    "#### **Задание 4**\n",
    "\n",
    "Получите все слова в строке.\n",
    "\n",
    "Ответ: `['Подходит', 'желтый', 'гладкий', 'горошек', 'к', 'зелёному', 'морщинистому', 'и', 'говорит']`\n"
   ]
  },
  {
   "cell_type": "code",
   "execution_count": 16,
   "id": "c12603ef-6068-47da-848d-2ed67753689d",
   "metadata": {},
   "outputs": [],
   "source": [
    "pattern = r\"\\w+\""
   ]
  },
  {
   "cell_type": "code",
   "execution_count": 17,
   "id": "989875d3-5972-455c-9f4b-1aa948e37a48",
   "metadata": {
    "editable": false,
    "slideshow": {
     "slide_type": ""
    },
    "tags": []
   },
   "outputs": [
    {
     "name": "stdout",
     "output_type": "stream",
     "text": [
      "['Подходит', 'желтый', 'гладкий', 'горошек', 'к', 'зелёному', 'морщинистому', 'и', 'говорит']\n"
     ]
    }
   ],
   "source": [
    "text = 'Подходит желтый гладкий горошек к зелёному морщинистому и говорит'\n",
    "print(re.findall(pattern = pattern, string = text))"
   ]
  },
  {
   "cell_type": "markdown",
   "id": "12363e7b-145a-4aa9-bcb4-b77bbeaf4c29",
   "metadata": {},
   "source": [
    " "
   ]
  },
  {
   "cell_type": "markdown",
   "id": "bc49193f-56cd-4a4c-9f49-0f4304b6c2ca",
   "metadata": {},
   "source": [
    "#### **Задание 5**\n",
    "\n",
    "Получите все слова которые начинаются с заглавной буквы\n",
    "\n",
    "Ответ: `['Инбридинг']`"
   ]
  },
  {
   "cell_type": "code",
   "execution_count": 18,
   "id": "1d7f46cc-ff0c-4825-a3e4-b9f1a1867b8c",
   "metadata": {},
   "outputs": [],
   "source": [
    "pattern = r\"\\b\\w*[А-Я]\\w*\\b\""
   ]
  },
  {
   "cell_type": "code",
   "execution_count": 19,
   "id": "526f8ab2-b161-4aaa-9a9f-40e422db0854",
   "metadata": {
    "editable": false,
    "slideshow": {
     "slide_type": ""
    },
    "tags": []
   },
   "outputs": [
    {
     "name": "stdout",
     "output_type": "stream",
     "text": [
      "['Инбридинг']\n"
     ]
    }
   ],
   "source": [
    "text = 'Инбридинг дело семейное'\n",
    "print(re.findall(pattern = pattern, string = text))"
   ]
  },
  {
   "cell_type": "markdown",
   "id": "e890c0bb-0091-42fc-8886-4bf07de48e0a",
   "metadata": {},
   "source": [
    " "
   ]
  },
  {
   "cell_type": "markdown",
   "id": "09bbddba-c883-48c9-be10-4377c1088d0d",
   "metadata": {},
   "source": [
    "#### **Задание 6**\n",
    "\n",
    "Получите слово которое находится в начале строки\n",
    "\n",
    "Ответ: `['Путь']`\n"
   ]
  },
  {
   "cell_type": "code",
   "execution_count": 20,
   "id": "5905df77-af8e-4a0b-8cd8-c17e7ce9af30",
   "metadata": {},
   "outputs": [],
   "source": [
    "pattern = r\"^\\w+\""
   ]
  },
  {
   "cell_type": "code",
   "execution_count": 21,
   "id": "e08c1b9d-28a6-4df4-92e5-7eae9c0545fb",
   "metadata": {
    "editable": false,
    "slideshow": {
     "slide_type": ""
    },
    "tags": []
   },
   "outputs": [
    {
     "name": "stdout",
     "output_type": "stream",
     "text": [
      "['Путь']\n"
     ]
    }
   ],
   "source": [
    "text = 'Путь в тысячу миль начинается с того, что виварий построили двумя этажами выше'\n",
    "print(re.findall(pattern = pattern, string = text))"
   ]
  },
  {
   "cell_type": "markdown",
   "id": "928f0150-e2e8-4783-9d2a-b163cb933d72",
   "metadata": {},
   "source": [
    " "
   ]
  },
  {
   "cell_type": "markdown",
   "id": "1ca6c4e7-843f-4525-a789-3cf1ed9960a8",
   "metadata": {},
   "source": [
    "#### **Задание 7**\n",
    "\n",
    "Получите все небуквенные символы, но не пробелы\n",
    "\n",
    "Ответ: `[',', '?', ',', '.']`\n"
   ]
  },
  {
   "cell_type": "code",
   "execution_count": 22,
   "id": "b19a3713-42cb-4079-9b9d-acc5beeca3fd",
   "metadata": {},
   "outputs": [],
   "source": [
    "pattern = r\"[^а-яА-Я ]\""
   ]
  },
  {
   "cell_type": "code",
   "execution_count": 23,
   "id": "295a9b94-0134-493a-8699-3ca00cb78815",
   "metadata": {
    "editable": false,
    "slideshow": {
     "slide_type": ""
    },
    "tags": []
   },
   "outputs": [
    {
     "name": "stdout",
     "output_type": "stream",
     "text": [
      "[',', '?', ',', '.']\n"
     ]
    }
   ],
   "source": [
    "text = 'В чем отличие между флагом и теми, кто роняет сервер каждый месяц? Флаг развивается, а они нет.'\n",
    "print(re.findall(pattern = pattern, string = text))"
   ]
  },
  {
   "cell_type": "markdown",
   "id": "cd319970-cb2f-48ca-a368-d9541ff08ea8",
   "metadata": {},
   "source": [
    " "
   ]
  },
  {
   "cell_type": "markdown",
   "id": "b679cfa3-0dcc-4de3-b5bf-6329fd33abd0",
   "metadata": {},
   "source": [
    "#### **Задание 8**\n",
    "\n",
    "Получите все слова, заканчивающиеся на `ии` или `ий`\n",
    "\n",
    "Ответ: `['лаборатории', 'средний', 'лабораторий']`\n"
   ]
  },
  {
   "cell_type": "code",
   "execution_count": 24,
   "id": "913cbd46-d3ac-42b9-a539-3a99656ef227",
   "metadata": {},
   "outputs": [],
   "source": [
    "pattern = r\"\\w*\\Bи[ий]\""
   ]
  },
  {
   "cell_type": "code",
   "execution_count": 25,
   "id": "7fbfb663-94fd-4483-a32c-7156de3781b7",
   "metadata": {
    "editable": false,
    "slideshow": {
     "slide_type": ""
    },
    "tags": []
   },
   "outputs": [
    {
     "name": "stdout",
     "output_type": "stream",
     "text": [
      "['лаборатории', 'средний', 'лабораторий']\n"
     ]
    }
   ],
   "source": [
    "text = '''\n",
    "       Когда студент младших курсов переходит из мокрой лаборатории в биоинформатическую, \n",
    "       он повышает средний IQ обеих лабораторий.\n",
    "       '''\n",
    "print(re.findall(pattern = pattern, string = text))"
   ]
  },
  {
   "cell_type": "markdown",
   "id": "779bb69c-61fe-4408-8c60-8a94ad8e59e0",
   "metadata": {},
   "source": [
    " "
   ]
  },
  {
   "cell_type": "markdown",
   "id": "86860bad-9b47-41dd-b293-b29766106ad0",
   "metadata": {},
   "source": [
    "#### **Задание 9**\n",
    "\n",
    "Получите все слова, в которых ровно 5 букв\n",
    "\n",
    "Ответ: `['Пусть', 'праки', 'тайгу']`\n"
   ]
  },
  {
   "cell_type": "code",
   "execution_count": 26,
   "id": "40353a67-93ca-40f3-80f1-9d09cbfca46a",
   "metadata": {},
   "outputs": [],
   "source": [
    "pattern = r\"\\b\\w....\\b\""
   ]
  },
  {
   "cell_type": "code",
   "execution_count": 27,
   "id": "93ab53a1-aae1-4158-bc52-7e1a3df43ea4",
   "metadata": {
    "editable": false,
    "slideshow": {
     "slide_type": ""
    },
    "tags": []
   },
   "outputs": [
    {
     "name": "stdout",
     "output_type": "stream",
     "text": [
      "['Пусть', 'праки', 'тайгу']\n"
     ]
    }
   ],
   "source": [
    "text = 'Пусть несделанные праки унесут в тайгу собаки'\n",
    "print(re.findall(pattern = pattern, string = text))"
   ]
  },
  {
   "cell_type": "markdown",
   "id": "1ecd95ce-1bb1-41cc-8699-da5a389f51bd",
   "metadata": {},
   "source": [
    " "
   ]
  },
  {
   "cell_type": "markdown",
   "id": "462e8bdd-ec26-49b4-9ac6-6c13d266fec8",
   "metadata": {},
   "source": [
    "#### **Задание 10**\n",
    "\n",
    "Получите все слова содержащие букву `o`.\n",
    "\n",
    "Ответ: `['человеку', 'он', 'по', 'позвоночным']`\n"
   ]
  },
  {
   "cell_type": "code",
   "execution_count": 28,
   "id": "f839b37f-a10f-4ad7-a2e7-c64dc892a0e7",
   "metadata": {},
   "outputs": [],
   "source": [
    "pattern = r\"\\w*о\\w*\""
   ]
  },
  {
   "cell_type": "code",
   "execution_count": 29,
   "id": "9a002e7f-554b-44be-9b3d-a0256f65eaa6",
   "metadata": {
    "editable": false,
    "slideshow": {
     "slide_type": ""
    },
    "tags": []
   },
   "outputs": [
    {
     "name": "stdout",
     "output_type": "stream",
     "text": [
      "['человеку', 'он', 'по', 'позвоночным']\n"
     ]
    }
   ],
   "source": [
    "text = 'Дайте человеку рыбу и он завалит зачёт по позвоночным.'\n",
    "print(re.findall(pattern = pattern, string = text))"
   ]
  },
  {
   "cell_type": "markdown",
   "id": "87221cea-79c4-4610-b171-26cfe5012458",
   "metadata": {},
   "source": [
    " "
   ]
  },
  {
   "cell_type": "markdown",
   "id": "c93a6a09-babd-464c-94c1-2d3b41f347d8",
   "metadata": {},
   "source": [
    " "
   ]
  },
  {
   "cell_type": "markdown",
   "id": "4a723a7d-1bae-468c-b17b-c7c33a6bda26",
   "metadata": {},
   "source": [
    "#### **Задание 11**\n",
    "\n",
    "Получите все предложения, заканчивающиеся на точку.\n",
    "\n",
    "Ответ: `['Мой дед говорил: невозможно собрать разбитое на маленькие кусочки.', ' Хороший был человек, но плохой биоинформатик.']`\n"
   ]
  },
  {
   "cell_type": "code",
   "execution_count": 30,
   "id": "ca910c38-1c01-4218-8f4c-f7e4c20f48a3",
   "metadata": {},
   "outputs": [],
   "source": [
    "pattern = r\"[А-Я][^\\.]*[.]\""
   ]
  },
  {
   "cell_type": "code",
   "execution_count": 31,
   "id": "ef465668-2e6a-4321-a7aa-f52f5a3a2629",
   "metadata": {
    "editable": false,
    "slideshow": {
     "slide_type": ""
    },
    "tags": []
   },
   "outputs": [
    {
     "name": "stdout",
     "output_type": "stream",
     "text": [
      "['Мой дед говорил: невозможно собрать разбитое на маленькие кусочки.', 'Хороший был человек, но плохой биоинформатик.']\n"
     ]
    }
   ],
   "source": [
    "text = 'Мой дед говорил: невозможно собрать разбитое на маленькие кусочки. Хороший был человек, но плохой биоинформатик.'\n",
    "print(re.findall(pattern = pattern, string = text))"
   ]
  },
  {
   "cell_type": "markdown",
   "id": "282a5f56-83d6-4dbc-b971-19a18dabc2be",
   "metadata": {},
   "source": [
    " "
   ]
  },
  {
   "cell_type": "markdown",
   "id": "626d93ba-8b7e-4d8c-a56d-2162c8e8f882",
   "metadata": {},
   "source": [
    "#### **Задание 12**\n",
    "\n",
    "Получите все слова, в которых есть как минимум 2 гласные подряд.\n",
    "\n",
    "Ответ: `['Смеётся', 'осмеливается', 'смеяться', 'научником']`\n"
   ]
  },
  {
   "cell_type": "code",
   "execution_count": 32,
   "id": "3f1ed0f1-62b1-4e08-936d-82fc6b1efa5c",
   "metadata": {},
   "outputs": [],
   "source": [
    "pattern = r\"\\w*[аоуыиеёюэяАОУЫИЕЁЮЭЯ]{2}\\w*\""
   ]
  },
  {
   "cell_type": "code",
   "execution_count": 33,
   "id": "4e274620-3088-4ec2-a91f-8cc2b40d50e2",
   "metadata": {
    "editable": false,
    "slideshow": {
     "slide_type": ""
    },
    "tags": []
   },
   "outputs": [
    {
     "name": "stdout",
     "output_type": "stream",
     "text": [
      "['Смеётся', 'осмеливается', 'смеяться', 'научником']\n"
     ]
    }
   ],
   "source": [
    "text = 'Смеётся над студентом тот, кто не осмеливается смеяться над его научником'\n",
    "print(re.findall(pattern = pattern, string = text))"
   ]
  },
  {
   "cell_type": "markdown",
   "id": "0dfd2b81-087f-4906-94f4-c6613a1392b5",
   "metadata": {},
   "source": [
    " "
   ]
  },
  {
   "cell_type": "markdown",
   "id": "68e07a24-5f15-42d5-a3ad-86f9be990e52",
   "metadata": {},
   "source": [
    "#### **Задание 13**\n",
    "\n",
    "Получите все слова в кавычках.\n",
    "\n",
    "Ответ: `['\"Санкции\"', \"'Обед'\"]`\n"
   ]
  },
  {
   "cell_type": "code",
   "execution_count": 34,
   "id": "699474bd-ac6a-43c4-8237-d92654ea3c10",
   "metadata": {
    "slideshow": {
     "slide_type": ""
    },
    "tags": []
   },
   "outputs": [],
   "source": [
    "pattern = r\"(\\w*\\\"\\w*\\\"|\\w*\\'\\w*\\')\""
   ]
  },
  {
   "cell_type": "code",
   "execution_count": 35,
   "id": "faaa54ba-3bb1-4104-860f-e5f336bc22f4",
   "metadata": {
    "editable": false,
    "slideshow": {
     "slide_type": ""
    },
    "tags": []
   },
   "outputs": [
    {
     "name": "stdout",
     "output_type": "stream",
     "text": [
      "['\"Санкции\"', \"'Обед'\"]\n"
     ]
    }
   ],
   "source": [
    "text = '''\n",
    "       Штирлиц шел по улице.\n",
    "       Мимо пробежала крыса, а за ней учёный с сачком.\n",
    "       \"Санкции\",  — подумал Штирлиц.\n",
    "       'Обед' — подумал учёный.\n",
    "       '''\n",
    "print(re.findall(pattern = pattern, string = text))"
   ]
  },
  {
   "cell_type": "markdown",
   "id": "237be702-dccd-4af8-bb53-1ae22629517b",
   "metadata": {},
   "source": [
    " "
   ]
  },
  {
   "cell_type": "markdown",
   "id": "873a3b58-05f3-447d-a5b6-adef092cf540",
   "metadata": {},
   "source": [
    "#### **Задание 14**\n",
    "\n",
    "Получите как можно больше чисел из этого набора.\n",
    "\n",
    "Ответ: `['4', '8.0', '+16', '-16', '-23.42', '3.14e15', '23e-42', '100.000.000', '-3.099e-734.149']`\n"
   ]
  },
  {
   "cell_type": "code",
   "execution_count": 44,
   "id": "8d23519e-dc57-41ab-9357-688695fb15d4",
   "metadata": {},
   "outputs": [],
   "source": [
    "pattern = r\"[-+0-9][-0-9e.]*\""
   ]
  },
  {
   "cell_type": "code",
   "execution_count": 45,
   "id": "ad1c9224-e93e-4728-a32f-ab789fa6063f",
   "metadata": {
    "editable": false,
    "slideshow": {
     "slide_type": ""
    },
    "tags": []
   },
   "outputs": [
    {
     "name": "stdout",
     "output_type": "stream",
     "text": [
      "['4', '8.0', '+16', '-16', '-23.42', '3.14e15', '23e-42', '100.000.000', '-3.099e-734.149']\n",
      "Получилось 9 чисел, ожидается 9\n"
     ]
    }
   ],
   "source": [
    "text = '4 8.0 +16 -16 -23.42 3.14e15 23e-42 100.000.000 -3.099e-734.149'\n",
    "result = re.findall(pattern = pattern, string = text)\n",
    "print(result)\n",
    "print(f'Получилось {len(result)} чисел, ожидается 9')"
   ]
  },
  {
   "cell_type": "markdown",
   "id": "58ca4ab5-a57a-4d0d-bb08-fe0313afbe02",
   "metadata": {},
   "source": [
    "##### **Доп. задание**\n",
    "\n",
    "Последнее число - тоже отсылка :) \n",
    "К чему?\n"
   ]
  },
  {
   "cell_type": "code",
   "execution_count": 32,
   "id": "1041f679-61d1-4f2d-8c6d-16ec8bec9c24",
   "metadata": {},
   "outputs": [],
   "source": [
    "#>Human Genome Assembly GRCh38"
   ]
  },
  {
   "cell_type": "markdown",
   "id": "0c047916-4d1e-4e95-8723-0044342cf12d",
   "metadata": {},
   "source": [
    " "
   ]
  },
  {
   "cell_type": "markdown",
   "id": "2a57fd32-ccab-46dc-9540-6fde5668b0f5",
   "metadata": {},
   "source": [
    "#### **Задание 15**\n",
    "\n",
    "Получите все валидные номера телефона из 'data/phones.txt'.\n",
    "\n",
    "Ответ: `['\"7(911) 345-34-56\"', '\"7(923)355-56-53\"', '\"+7(923)355-56-53\"', '\"8(988)245 45 32\"', '\"88005553535\"', '\"+7 921 445 43 22\"']`\n"
   ]
  },
  {
   "cell_type": "code",
   "execution_count": 49,
   "id": "c7479902-f406-4385-b6c7-d1d4461a08a2",
   "metadata": {},
   "outputs": [],
   "source": [
    "pattern = r'[\"][+]?[+7]?[7-8 ]?[(]?[8-9][0-9)]{2}[)]?[0-9 -]{7,10}[\"]'"
   ]
  },
  {
   "cell_type": "code",
   "execution_count": 50,
   "id": "87af0a97-b1cf-4978-9dc7-8611b31dc768",
   "metadata": {
    "editable": false,
    "slideshow": {
     "slide_type": ""
    },
    "tags": []
   },
   "outputs": [
    {
     "name": "stdout",
     "output_type": "stream",
     "text": [
      "['\"7(911) 345-34-56\"', '\"7(923)355-56-53\"', '\"+7(923)355-56-53\"', '\"8(988)245 45 32\"', '\"88005553535\"', '\"+7 921 445 43 22\"']\n",
      "Получилось 6 номеров, ожидается 6\n"
     ]
    }
   ],
   "source": [
    "with open('data/phones.txt', mode='r') as f:\n",
    "    text = f.read()\n",
    "result = re.findall(pattern = pattern, string = text)\n",
    "print(result)\n",
    "print(f'Получилось {len(result)} номеров, ожидается 6')"
   ]
  },
  {
   "cell_type": "markdown",
   "id": "d8364513-ef1c-4b10-b1f9-257c72383736",
   "metadata": {},
   "source": [
    " "
   ]
  },
  {
   "cell_type": "markdown",
   "id": "ee9e37eb-4505-48ee-81c0-dbf5ac549050",
   "metadata": {},
   "source": [
    " ---"
   ]
  },
  {
   "cell_type": "markdown",
   "id": "0d0cb2b6-423f-463f-a304-10d9fe16bf16",
   "metadata": {},
   "source": [
    "## Демонстрируем наши заслуги\n",
    "\n",
    "(см. README)"
   ]
  },
  {
   "cell_type": "code",
   "execution_count": 1,
   "id": "34375db3-4443-4765-b8b5-c75f0c34ff29",
   "metadata": {},
   "outputs": [
    {
     "data": {
      "text/plain": [
       "['Mix-G1_S21_L001_R1_001.fastq',\n",
       " 'Mix-G1_S21_L001_R2_001.fastq',\n",
       " 'Mix-G1_S22_L001_R1_001.fastq',\n",
       " 'Mix-G1_S22_L001_R2_001.fastq']"
      ]
     },
     "execution_count": 1,
     "metadata": {},
     "output_type": "execute_result"
    }
   ],
   "source": [
    "import os\n",
    "\n",
    "os.listdir('fastqs') # вот файлы для переименовки"
   ]
  },
  {
   "cell_type": "code",
   "execution_count": 2,
   "id": "a99ac322-b80e-48ec-9467-99ffc5b48f0c",
   "metadata": {},
   "outputs": [
    {
     "ename": "ImportError",
     "evalue": "attempted relative import with no known parent package",
     "output_type": "error",
     "traceback": [
      "\u001b[0;31m---------------------------------------------------------------------------\u001b[0m",
      "\u001b[0;31mImportError\u001b[0m                               Traceback (most recent call last)",
      "Cell \u001b[0;32mIn[2], line 2\u001b[0m\n\u001b[1;32m      1\u001b[0m \u001b[38;5;66;03m# воспользуйтесь вашей функцией\u001b[39;00m\n\u001b[0;32m----> 2\u001b[0m \u001b[38;5;28;01mfrom\u001b[39;00m \u001b[38;5;21;01m.\u001b[39;00m\u001b[38;5;21;01m.\u001b[39;00m\u001b[38;5;21;01m.\u001b[39;00m \u001b[38;5;28;01mimport\u001b[39;00m rename_files\n\u001b[1;32m      3\u001b[0m rename_files(\u001b[38;5;241m.\u001b[39m\u001b[38;5;241m.\u001b[39m\u001b[38;5;241m.\u001b[39m) \u001b[38;5;66;03m# НЕ удаляйте исходные файлы!\u001b[39;00m\n",
      "\u001b[0;31mImportError\u001b[0m: attempted relative import with no known parent package"
     ]
    }
   ],
   "source": [
    "# воспользуйтесь вашей функцией\n",
    "from ... import rename_files\n",
    "rename_files(...) # НЕ удаляйте исходные файлы!"
   ]
  },
  {
   "cell_type": "code",
   "execution_count": 3,
   "id": "e0b49cfd-7af8-4efa-a642-d31bcd2abdac",
   "metadata": {},
   "outputs": [
    {
     "data": {
      "text/plain": [
       "['Mix-G1_S21_L001_R1_001.fastq',\n",
       " 'Mix-G1_S21_L001_R2_001.fastq',\n",
       " 'Mix-G1_S22_L001_R1_001.fastq',\n",
       " 'Mix-G1_S22_L001_R2_001.fastq']"
      ]
     },
     "execution_count": 3,
     "metadata": {},
     "output_type": "execute_result"
    }
   ],
   "source": [
    "os.listdir('fastqs') # посмотрим что вышло :)"
   ]
  },
  {
   "cell_type": "markdown",
   "id": "9d6b674e-1130-40c4-bac6-1693e7838ea1",
   "metadata": {},
   "source": [
    " "
   ]
  },
  {
   "cell_type": "markdown",
   "id": "a14e076d-4298-4421-8f74-403d76339d6d",
   "metadata": {},
   "source": [
    " "
   ]
  },
  {
   "cell_type": "markdown",
   "id": "27aad143-d189-40d3-9387-5596b77c65d3",
   "metadata": {},
   "source": [
    " "
   ]
  },
  {
   "cell_type": "markdown",
   "id": "19779e9a-5a0a-45ab-afc2-b968c81acdc8",
   "metadata": {},
   "source": [
    "Надеюсь, у тебя всё получилось! Но в любом случае - ты молодец:)🥳"
   ]
  },
  {
   "cell_type": "markdown",
   "id": "acd3815b-14af-44df-8d78-11f261e46325",
   "metadata": {},
   "source": [
    "---"
   ]
  }
 ],
 "metadata": {
  "kernelspec": {
   "display_name": "Python 3 (ipykernel)",
   "language": "python",
   "name": "python3"
  },
  "language_info": {
   "codemirror_mode": {
    "name": "ipython",
    "version": 3
   },
   "file_extension": ".py",
   "mimetype": "text/x-python",
   "name": "python",
   "nbconvert_exporter": "python",
   "pygments_lexer": "ipython3",
   "version": "3.9.18"
  }
 },
 "nbformat": 4,
 "nbformat_minor": 5
}
