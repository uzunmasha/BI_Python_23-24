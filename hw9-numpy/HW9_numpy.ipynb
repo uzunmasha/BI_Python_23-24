{
 "cells": [
  {
   "cell_type": "markdown",
   "id": "bd0bc3cd-cb27-438c-a77f-39b405db3086",
   "metadata": {
    "deletable": false,
    "editable": false,
    "nbgrader": {
     "cell_type": "markdown",
     "checksum": "1e6526f8624070d999c65e932840d7d6",
     "grade": false,
     "grade_id": "cell-4d44b9cfed25e148",
     "locked": true,
     "schema_version": 3,
     "solution": false,
     "task": false
    }
   },
   "source": [
    "# <center>  Python for biologists\n",
    "    \n",
    "## Homework 9, Numpy\n",
    "\n",
    "***Notion 0***. Feel free to start using shortcuts when working with Jupyter Notebook:\n",
    "- To run the cell `Ctrl`+`Enter`\n",
    "- To run the cell and step to the next one `Shift` + `Enter`\n",
    "- To run the cell and create the new one `Alt` + `Enter`\n",
    "\n",
    "There are two modes of action: cell-editing (the line on the left is green) and cell-selecting (the line on the left is blue). \n",
    "\n",
    "- cell-editing mode &#8594; `Esc` &#8594; cell-selecting mode\n",
    "- cell-selecting mode &#8594; `Enter` &#8594; cell-editing mode\n",
    "\n",
    "In cell-selecting mode you can:\n",
    "\n",
    "- Delete  a cell - `DD`\n",
    "- Undo deleting - `Z`\n",
    "\n",
    "---\n",
    "\n",
    "## Правила\n",
    "\n",
    "- Это задание в первую очередь на знакомство с шириной и глубиной `numpy`. Откройте [документацию](https://numpy.org/doc/stable/reference/index.html#reference) и используйте её максимально при выполнении задания.\n",
    "- Пишите код только там, где это от вас требуется (`# YOUR CODE HERE`)\n",
    "- Написав, **удаляйте** `raise NotImplementedError() `\n",
    "- Не переименовывайте переменные, если они уже созданы. Происходят автопроверки.\n",
    "- Задания есть 2-х типов: пониженной (★☆) и повышенной (★★) сложности. Это нормально, если сложные задания кажутся сложными.\n",
    "- Многие задания отмечены символом 🌐. Это значит что для его решения уже существует ОДНА готовая функция в библиотеке numpy. Осталось её только загуглить и подобрать параметры.\n",
    "- Под заданием для вас приведены проверки с помощью `assert`. Они падают с ошибкой если решено не правильно и молчат если всё правильно.\n",
    "- Перед отправкой проверьте что ваш ноутбук работает (юпитер-ноутбук). Нажмите на панели сверху `Kernel` -> `Restart Kernel and Run All Cells...`. Проверье что нет ошибок.\n",
    "    \n",
    "\n",
    "#### Погнали!\n",
    "\n",
    "---\n",
    "    \n",
    "## I. Создание массивов"
   ]
  },
  {
   "cell_type": "code",
   "execution_count": 1,
   "id": "0f66ca02-29da-4bca-863b-c2f6be6fda73",
   "metadata": {
    "deletable": false,
    "editable": false,
    "nbgrader": {
     "cell_type": "code",
     "checksum": "5badaa4d7b6c747fc8144993c0022439",
     "grade": false,
     "grade_id": "cell-a13cd7d7670e026a",
     "locked": true,
     "schema_version": 3,
     "solution": false,
     "task": false
    },
    "slideshow": {
     "slide_type": ""
    },
    "tags": []
   },
   "outputs": [],
   "source": [
    "import numpy as np"
   ]
  },
  {
   "cell_type": "markdown",
   "id": "5592a260-3342-4878-8085-cfd5104ed8ea",
   "metadata": {
    "deletable": false,
    "editable": false,
    "nbgrader": {
     "cell_type": "markdown",
     "checksum": "4ca8b065121880088dcb007453542a35",
     "grade": false,
     "grade_id": "cell-424a7f47131d2d55",
     "locked": true,
     "schema_version": 3,
     "solution": false,
     "task": false
    },
    "slideshow": {
     "slide_type": ""
    },
    "tags": []
   },
   "source": [
    "#### **Задание 1** (★☆) 🌐\n",
    "\n",
    "Создайте вектор состоящий из 4-х нулей (массив `(4,)` ) "
   ]
  },
  {
   "cell_type": "code",
   "execution_count": 2,
   "id": "90782e72-5249-46c6-9e80-238fbebab2ac",
   "metadata": {
    "deletable": false,
    "nbgrader": {
     "cell_type": "code",
     "checksum": "c66d7e0c8c716579745db9cfb50f137e",
     "grade": false,
     "grade_id": "cell-ab35080a2e9048a6",
     "locked": false,
     "schema_version": 3,
     "solution": true,
     "task": false
    },
    "tags": []
   },
   "outputs": [],
   "source": [
    "result = np.zeros(4)"
   ]
  },
  {
   "cell_type": "code",
   "execution_count": 3,
   "id": "c4f5b263-d7aa-4134-887a-1a69b450df42",
   "metadata": {
    "deletable": false,
    "editable": false,
    "nbgrader": {
     "cell_type": "code",
     "checksum": "487a1ee7bf9d412dbbddb9c21af2594d",
     "grade": true,
     "grade_id": "cell-873f721b66636c4f",
     "locked": true,
     "points": 2,
     "schema_version": 3,
     "solution": false,
     "task": false
    },
    "tags": []
   },
   "outputs": [],
   "source": [
    "assert np.array_equal(result, np.array([0, 0, 0, 0]))"
   ]
  },
  {
   "cell_type": "markdown",
   "id": "f2c6012a-7516-4d30-a94f-b6464d4992e9",
   "metadata": {
    "deletable": false,
    "editable": false,
    "nbgrader": {
     "cell_type": "markdown",
     "checksum": "05e6b0e610a3492e87b7c6003777fb02",
     "grade": false,
     "grade_id": "cell-451dbfcd5fd09281",
     "locked": true,
     "schema_version": 3,
     "solution": false,
     "task": false
    },
    "tags": []
   },
   "source": [
    "#### **Задание 2** (★☆) 🌐\n",
    "\n",
    "Создайте вектор состоящий из 4-х единиц (массив `(4,)` ) "
   ]
  },
  {
   "cell_type": "code",
   "execution_count": 4,
   "id": "ed3b1db6-ddcf-4e46-8e2d-872485c285b2",
   "metadata": {
    "deletable": false,
    "nbgrader": {
     "cell_type": "code",
     "checksum": "64c7e0736551bcd426071f011c4372f4",
     "grade": false,
     "grade_id": "cell-d768c26023eca51a",
     "locked": false,
     "schema_version": 3,
     "solution": true,
     "task": false
    },
    "tags": []
   },
   "outputs": [],
   "source": [
    "result = np.ones(4)"
   ]
  },
  {
   "cell_type": "code",
   "execution_count": 5,
   "id": "ef0101bf-b967-467d-9d79-ed660ec6a40b",
   "metadata": {
    "deletable": false,
    "editable": false,
    "nbgrader": {
     "cell_type": "code",
     "checksum": "cfcd3b78bfd1ce8da0b880dd3b42cf1f",
     "grade": true,
     "grade_id": "cell-2b41e359eda9ca22",
     "locked": true,
     "points": 2,
     "schema_version": 3,
     "solution": false,
     "task": false
    },
    "tags": []
   },
   "outputs": [],
   "source": [
    "assert np.array_equal(result, np.array([1, 1, 1, 1]))"
   ]
  },
  {
   "cell_type": "markdown",
   "id": "b79f940b-37dc-4377-8806-7f1ff95f919a",
   "metadata": {
    "deletable": false,
    "editable": false,
    "nbgrader": {
     "cell_type": "markdown",
     "checksum": "2e9b3dfd08538fb7a4b0bf2df2852912",
     "grade": false,
     "grade_id": "cell-d6f6b928964bc9a4",
     "locked": true,
     "schema_version": 3,
     "solution": false,
     "task": false
    },
    "tags": []
   },
   "source": [
    "#### **Задание 3** (★☆) 🌐\n",
    "\n",
    "Создайте вектор состоящий из 10-и чисел от 11 до 20 включительно (массив `(10,)` ) "
   ]
  },
  {
   "cell_type": "code",
   "execution_count": 6,
   "id": "f00b157a-51ec-4c8a-9bf7-8f80a7d4d191",
   "metadata": {
    "deletable": false,
    "nbgrader": {
     "cell_type": "code",
     "checksum": "ba294614a9512a8ec01fe1c9036dd666",
     "grade": false,
     "grade_id": "cell-6934c096c3e74b5c",
     "locked": false,
     "schema_version": 3,
     "solution": true,
     "task": false
    },
    "tags": []
   },
   "outputs": [],
   "source": [
    "result = np.arange(11,21)"
   ]
  },
  {
   "cell_type": "code",
   "execution_count": 7,
   "id": "e35b2369-43cb-4ae1-a97a-7f5d46d1d6b6",
   "metadata": {
    "deletable": false,
    "editable": false,
    "nbgrader": {
     "cell_type": "code",
     "checksum": "9f86057545c38d794b15541eeccab137",
     "grade": true,
     "grade_id": "cell-ddfab69579023526",
     "locked": true,
     "points": 2,
     "schema_version": 3,
     "solution": false,
     "task": false
    },
    "tags": []
   },
   "outputs": [],
   "source": [
    "assert np.array_equal(result, np.array([11, 12, 13, 14, 15, 16, 17, 18, 19, 20]))"
   ]
  },
  {
   "cell_type": "markdown",
   "id": "0cd51eae-7cde-4adb-b592-ccdabae83440",
   "metadata": {
    "deletable": false,
    "editable": false,
    "nbgrader": {
     "cell_type": "markdown",
     "checksum": "82271ad6c701b5bb86b6f7b4f405df0a",
     "grade": false,
     "grade_id": "cell-1eda368d429f6ab1",
     "locked": true,
     "schema_version": 3,
     "solution": false,
     "task": false
    },
    "tags": []
   },
   "source": [
    "#### **Задание 4** (★☆) 🌐\n",
    "\n",
    "Выведите матрицу 2x3 заполненную нулями"
   ]
  },
  {
   "cell_type": "code",
   "execution_count": 8,
   "id": "9dc0fb70-5e54-4ab9-8b17-fd4894989f9d",
   "metadata": {
    "deletable": false,
    "nbgrader": {
     "cell_type": "code",
     "checksum": "06df36aff531e5586aaab60bd4b8ff51",
     "grade": false,
     "grade_id": "cell-668ba69fb6c560ba",
     "locked": false,
     "schema_version": 3,
     "solution": true,
     "task": false
    },
    "tags": []
   },
   "outputs": [],
   "source": [
    "result = np.zeros((2, 3))"
   ]
  },
  {
   "cell_type": "code",
   "execution_count": 9,
   "id": "81dd803c-fcd8-4345-8ac6-9738ca51c23d",
   "metadata": {
    "deletable": false,
    "editable": false,
    "nbgrader": {
     "cell_type": "code",
     "checksum": "732ed92ced939768b3845083e5a349b3",
     "grade": true,
     "grade_id": "cell-be550edcb21a63b3",
     "locked": true,
     "points": 2,
     "schema_version": 3,
     "solution": false,
     "task": false
    },
    "tags": []
   },
   "outputs": [],
   "source": [
    "assert np.array_equal(result, np.array([[0, 0, 0], [0, 0, 0]]))"
   ]
  },
  {
   "cell_type": "markdown",
   "id": "48cc597b-f82e-4ece-99bb-435da97eae57",
   "metadata": {
    "deletable": false,
    "editable": false,
    "nbgrader": {
     "cell_type": "markdown",
     "checksum": "9e586b05d266102f0edf77b3276746e1",
     "grade": false,
     "grade_id": "cell-9d691e8818df17cd",
     "locked": true,
     "schema_version": 3,
     "solution": false,
     "task": false
    },
    "tags": []
   },
   "source": [
    "#### **Задание 4** (★☆) 🌐\n",
    "\n",
    "Выведите количество элементов в массиве"
   ]
  },
  {
   "cell_type": "code",
   "execution_count": 10,
   "id": "15a53184-d54b-4b5b-9955-f3d19ad4ced5",
   "metadata": {
    "deletable": false,
    "nbgrader": {
     "cell_type": "code",
     "checksum": "72d054131f4ef704d04041d6f2525bb7",
     "grade": false,
     "grade_id": "cell-f898b04d5add337c",
     "locked": false,
     "schema_version": 3,
     "solution": true,
     "task": false
    },
    "tags": []
   },
   "outputs": [],
   "source": [
    "mtr = np.array([\n",
    "                [1, 1, 1],\n",
    "                [2, 2, 2]\n",
    "                ]\n",
    ")\n",
    "result = mtr.size"
   ]
  },
  {
   "cell_type": "code",
   "execution_count": 11,
   "id": "388209bc-f1a3-4058-8a88-734e057b7080",
   "metadata": {
    "deletable": false,
    "editable": false,
    "nbgrader": {
     "cell_type": "code",
     "checksum": "e9bb7fae6794c39cdbfa81b7b3818e74",
     "grade": true,
     "grade_id": "cell-a44d67999446b676",
     "locked": true,
     "points": 2,
     "schema_version": 3,
     "solution": false,
     "task": false
    },
    "tags": []
   },
   "outputs": [],
   "source": [
    "assert np.array_equal(result, 6)"
   ]
  },
  {
   "cell_type": "markdown",
   "id": "02165a47-a8d4-4388-93fd-6f9f59c1a42f",
   "metadata": {
    "deletable": false,
    "editable": false,
    "nbgrader": {
     "cell_type": "markdown",
     "checksum": "2dc34161c6bbbf94583658e283e20a01",
     "grade": false,
     "grade_id": "cell-225934343e29b955",
     "locked": true,
     "schema_version": 3,
     "solution": false,
     "task": false
    },
    "tags": []
   },
   "source": [
    "#### **Задание 5**(★☆) 🌐\n",
    " \n",
    "Выведите размерность массива"
   ]
  },
  {
   "cell_type": "code",
   "execution_count": 12,
   "id": "9403a061-5c98-49ee-a32a-cca2b4191f5a",
   "metadata": {
    "deletable": false,
    "nbgrader": {
     "cell_type": "code",
     "checksum": "40baeafcda231b5a003a53c048f5cd63",
     "grade": false,
     "grade_id": "cell-67eef977740fff91",
     "locked": false,
     "schema_version": 3,
     "solution": true,
     "task": false
    },
    "tags": []
   },
   "outputs": [],
   "source": [
    "mtr = np.array([\n",
    "                [1, 1, 1],\n",
    "                [2, 2, 2]\n",
    "                ]\n",
    ")\n",
    "result = mtr.shape"
   ]
  },
  {
   "cell_type": "code",
   "execution_count": 13,
   "id": "e8a2c4c6-e58b-4e5d-9fc7-f26257830e29",
   "metadata": {
    "deletable": false,
    "editable": false,
    "nbgrader": {
     "cell_type": "code",
     "checksum": "950dc73becf010d77445f9cb64135e90",
     "grade": true,
     "grade_id": "cell-c07cf06841b24e90",
     "locked": true,
     "points": 2,
     "schema_version": 3,
     "solution": false,
     "task": false
    },
    "tags": []
   },
   "outputs": [],
   "source": [
    "assert np.array_equal(result, (2, 3))"
   ]
  },
  {
   "cell_type": "markdown",
   "id": "4fe5c61a-ff6c-4adb-950e-c4f6ec2f8dbd",
   "metadata": {
    "deletable": false,
    "editable": false,
    "nbgrader": {
     "cell_type": "markdown",
     "checksum": "76f2375c5f2490167f3ce130b4e36d42",
     "grade": false,
     "grade_id": "cell-dd7a8d27a0cb32dd",
     "locked": true,
     "schema_version": 3,
     "solution": false,
     "task": false
    },
    "tags": []
   },
   "source": [
    "#### **Задание 6** (★☆) 🌐\n",
    "\n",
    "Создайте [единичную матрицу](https://ru.wikipedia.org/wiki/%D0%95%D0%B4%D0%B8%D0%BD%D0%B8%D1%87%D0%BD%D0%B0%D1%8F_%D0%BC%D0%B0%D1%82%D1%80%D0%B8%D1%86%D0%B0) 3x3"
   ]
  },
  {
   "cell_type": "code",
   "execution_count": 14,
   "id": "5e022624-be37-4f40-952d-2f7800c8a4fb",
   "metadata": {
    "deletable": false,
    "nbgrader": {
     "cell_type": "code",
     "checksum": "0373f2276dc6ee2d325ed8854bdab6f7",
     "grade": false,
     "grade_id": "cell-f907531ee4535156",
     "locked": false,
     "schema_version": 3,
     "solution": true,
     "task": false
    },
    "tags": []
   },
   "outputs": [],
   "source": [
    "result = np.eye(3)\n",
    "#result = np.identity(3)\n",
    "#or result = np.zeros((3, 3))\n",
    "#result[0, 0] = 1\n",
    "#result[1, 1] = 1\n",
    "#result[2, 2] = 1"
   ]
  },
  {
   "cell_type": "code",
   "execution_count": 15,
   "id": "83e56e38-2762-4d29-9e3c-3ade38d5ecb4",
   "metadata": {
    "deletable": false,
    "editable": false,
    "nbgrader": {
     "cell_type": "code",
     "checksum": "313dcbdd9cf575f6abaf22b6fcf1ab62",
     "grade": true,
     "grade_id": "cell-26974fc6eabd9367",
     "locked": true,
     "points": 2,
     "schema_version": 3,
     "solution": false,
     "task": false
    },
    "tags": []
   },
   "outputs": [],
   "source": [
    "assert np.array_equal(result, np.array([[1., 0., 0.],\n",
    "                                        [0., 1., 0.],\n",
    "                                        [0., 0., 1.]]))"
   ]
  },
  {
   "cell_type": "markdown",
   "id": "eaa428a0-33f2-42d1-a0c5-709bbd813b1d",
   "metadata": {
    "deletable": false,
    "editable": false,
    "nbgrader": {
     "cell_type": "markdown",
     "checksum": "3893585b1aaa36539967cca96754454b",
     "grade": false,
     "grade_id": "cell-1629c28267d6aa97",
     "locked": true,
     "schema_version": 3,
     "solution": false,
     "task": false
    },
    "tags": []
   },
   "source": [
    "#### **Задание 7** (★☆) 🌐\n",
    "\n",
    "Создайте вектор с 5-ю числами от 2 до 10 расположенными с равным интервальном между 2 и 10 (включительно)"
   ]
  },
  {
   "cell_type": "code",
   "execution_count": 16,
   "id": "0208f419-6353-4183-9b59-1ff4025d1559",
   "metadata": {
    "deletable": false,
    "nbgrader": {
     "cell_type": "code",
     "checksum": "ef71e1007b7c0ed8abbb2bbe26831859",
     "grade": false,
     "grade_id": "cell-ac65ec8f2cb1b4c2",
     "locked": false,
     "schema_version": 3,
     "solution": true,
     "task": false
    },
    "tags": []
   },
   "outputs": [],
   "source": [
    "result = np.arange(2, 11, 2)"
   ]
  },
  {
   "cell_type": "code",
   "execution_count": 17,
   "id": "ae86c0be-2742-46df-bd78-fba49bdd7b3c",
   "metadata": {
    "deletable": false,
    "editable": false,
    "nbgrader": {
     "cell_type": "code",
     "checksum": "061e53729239306e1acd9fe46bf18a74",
     "grade": true,
     "grade_id": "cell-f07bd80efe8c4683",
     "locked": true,
     "points": 3,
     "schema_version": 3,
     "solution": false,
     "task": false
    },
    "tags": []
   },
   "outputs": [],
   "source": [
    "assert np.array_equal(result, np.array([ 2.,  4.,  6.,  8., 10.]))"
   ]
  },
  {
   "cell_type": "markdown",
   "id": "40a7c25f-1e69-4db1-843f-64e4773001b8",
   "metadata": {
    "deletable": false,
    "editable": false,
    "nbgrader": {
     "cell_type": "markdown",
     "checksum": "d495ab6fbcc991d72d8cdfb2e8c80519",
     "grade": false,
     "grade_id": "cell-9e1dbfe91d2351d8",
     "locked": true,
     "schema_version": 3,
     "solution": false,
     "task": false
    },
    "tags": []
   },
   "source": [
    "#### **Задание 8** (★☆) 🌐\n",
    "\n",
    "Создайте вектор с 3-мя числами вида $10^x$, где $x$ принимает значения между 2 и 6 (включительно). Здесь функция не та же, что и в предыдущем задании))"
   ]
  },
  {
   "cell_type": "code",
   "execution_count": 18,
   "id": "e616e1fb-d666-41aa-aa4b-ea714cae04d9",
   "metadata": {
    "deletable": false,
    "nbgrader": {
     "cell_type": "code",
     "checksum": "1fde71b570690ff79a3b4230e42b6200",
     "grade": false,
     "grade_id": "cell-7b0bad4973d7cece",
     "locked": false,
     "schema_version": 3,
     "solution": true,
     "task": false
    },
    "tags": []
   },
   "outputs": [],
   "source": [
    "result = np.logspace(2, 6, 3)"
   ]
  },
  {
   "cell_type": "code",
   "execution_count": 19,
   "id": "c3a0a712-88ef-47b2-be6d-6eb05c336234",
   "metadata": {
    "deletable": false,
    "editable": false,
    "nbgrader": {
     "cell_type": "code",
     "checksum": "c6fd26099654555023390156b338e97e",
     "grade": true,
     "grade_id": "cell-abadae734e5ea344",
     "locked": true,
     "points": 3,
     "schema_version": 3,
     "solution": false,
     "task": false
    },
    "tags": []
   },
   "outputs": [],
   "source": [
    "assert np.array_equal(result, np.array([1.e2, 1.e4, 1.e6]))"
   ]
  },
  {
   "cell_type": "markdown",
   "id": "cc5516cb-d53a-4e71-97bc-39b10d3725f8",
   "metadata": {
    "deletable": false,
    "editable": false,
    "nbgrader": {
     "cell_type": "markdown",
     "checksum": "d631171be045228756e9a23b479f6a25",
     "grade": false,
     "grade_id": "cell-3ead0f41d9e91aeb",
     "locked": true,
     "schema_version": 3,
     "solution": false,
     "task": false
    },
    "tags": []
   },
   "source": [
    "#### **Задание 9** (★★) \n",
    "\n",
    "Создайте матрицу 5х5 со значениями 3 в центре, 2 вокруг центра и 1 по краям\n",
    "\n",
    "<img src='attachment:f534ff6f-19c5-4ee2-bdcf-8cf9eea0ef44.png' width=200>"
   ]
  },
  {
   "cell_type": "code",
   "execution_count": 20,
   "id": "53c6c0b3-2cc1-4b04-a668-eada67395edf",
   "metadata": {
    "deletable": false,
    "nbgrader": {
     "cell_type": "code",
     "checksum": "fcc4fad8019958459ad8ffd6e80adcd4",
     "grade": false,
     "grade_id": "cell-f74eca2eece9e447",
     "locked": false,
     "schema_version": 3,
     "solution": true,
     "task": false
    },
    "tags": []
   },
   "outputs": [],
   "source": [
    "result = np.ones((5,5))\n",
    "result[1:-1,1:-1] = 2\n",
    "result[2,2] = 3"
   ]
  },
  {
   "cell_type": "code",
   "execution_count": 21,
   "id": "43d26f5b-a2ee-4368-a3f5-0d8509c99ae7",
   "metadata": {
    "deletable": false,
    "editable": false,
    "nbgrader": {
     "cell_type": "code",
     "checksum": "c50fe7b09431989800bd5e6f8fab7045",
     "grade": true,
     "grade_id": "cell-b16cb22b21275ceb",
     "locked": true,
     "points": 7,
     "schema_version": 3,
     "solution": false,
     "task": false
    },
    "tags": []
   },
   "outputs": [],
   "source": [
    "assert np.array_equal(result, np.array([[1., 1., 1., 1., 1.],\n",
    "                                        [1., 2., 2., 2., 1.],\n",
    "                                        [1., 2., 3., 2., 1.],\n",
    "                                        [1., 2., 2., 2., 1.],\n",
    "                                        [1., 1., 1., 1., 1.]]))"
   ]
  },
  {
   "cell_type": "markdown",
   "id": "d92f72f8-4dc1-4cd6-ad63-75da029dc205",
   "metadata": {
    "deletable": false,
    "editable": false,
    "nbgrader": {
     "cell_type": "markdown",
     "checksum": "7823eb8be7cc25a2a3302a92fe7c8b7a",
     "grade": false,
     "grade_id": "cell-2faf99d7a3335c9c",
     "locked": true,
     "schema_version": 3,
     "solution": false,
     "task": false
    },
    "tags": []
   },
   "source": [
    "#### **Задание 10** (★★)\n",
    "\n",
    "Создайте шахматную доску 8x8"
   ]
  },
  {
   "cell_type": "code",
   "execution_count": 22,
   "id": "fccc7684-11cd-4752-a3a3-f4d5979c1199",
   "metadata": {
    "deletable": false,
    "nbgrader": {
     "cell_type": "code",
     "checksum": "f850c75cd7d0af7d0df7570b86604e68",
     "grade": false,
     "grade_id": "cell-79e9e4f0c86bdd16",
     "locked": false,
     "schema_version": 3,
     "solution": true,
     "task": false
    },
    "tags": []
   },
   "outputs": [],
   "source": [
    "result = np.tile(np.array([[0,1],[1,0]]), (4,4))"
   ]
  },
  {
   "cell_type": "code",
   "execution_count": 23,
   "id": "ef818497-6077-49fc-995b-ff966b34f6ed",
   "metadata": {
    "deletable": false,
    "editable": false,
    "nbgrader": {
     "cell_type": "code",
     "checksum": "c991f8ab86a424c539f579a55d05358f",
     "grade": true,
     "grade_id": "cell-1b43bae7dea073bd",
     "locked": true,
     "points": 7,
     "schema_version": 3,
     "solution": false,
     "task": false
    },
    "tags": []
   },
   "outputs": [],
   "source": [
    "assert np.array_equal(result, np.array([[0., 1., 0., 1., 0., 1., 0., 1.],\n",
    "                                       [1., 0., 1., 0., 1., 0., 1., 0.],\n",
    "                                       [0., 1., 0., 1., 0., 1., 0., 1.],\n",
    "                                       [1., 0., 1., 0., 1., 0., 1., 0.],\n",
    "                                       [0., 1., 0., 1., 0., 1., 0., 1.],\n",
    "                                       [1., 0., 1., 0., 1., 0., 1., 0.],\n",
    "                                       [0., 1., 0., 1., 0., 1., 0., 1.],\n",
    "                                       [1., 0., 1., 0., 1., 0., 1., 0.]]))"
   ]
  },
  {
   "cell_type": "markdown",
   "id": "e945b16f-72d3-4efa-b9c1-9f0387a96b75",
   "metadata": {
    "deletable": false,
    "editable": false,
    "nbgrader": {
     "cell_type": "markdown",
     "checksum": "045f6a4eb73f9fc6c9112f661eb9b776",
     "grade": false,
     "grade_id": "cell-aad5a256dc4829cb",
     "locked": true,
     "schema_version": 3,
     "solution": false,
     "task": false
    },
    "tags": []
   },
   "source": [
    "## II. Операции над массивами"
   ]
  },
  {
   "cell_type": "markdown",
   "id": "95ba003f-ce86-4b49-943d-0e13c635a25e",
   "metadata": {
    "deletable": false,
    "editable": false,
    "nbgrader": {
     "cell_type": "markdown",
     "checksum": "90fe8a73c6bea4ef6401d5ded8bb0cb6",
     "grade": false,
     "grade_id": "cell-1c9e6173e29a5561",
     "locked": true,
     "schema_version": 3,
     "solution": false,
     "task": false
    },
    "tags": []
   },
   "source": [
    "#### **Задание 11** (★☆)\n",
    "\n",
    "Сложите две заданные матрицы"
   ]
  },
  {
   "cell_type": "code",
   "execution_count": 24,
   "id": "5a6fd4c3-a333-4e79-ae62-8d5b91882aac",
   "metadata": {
    "deletable": false,
    "nbgrader": {
     "cell_type": "code",
     "checksum": "68f05cc275d39bd5d7e5fcc34b93bcee",
     "grade": false,
     "grade_id": "cell-21cff1e910d36a96",
     "locked": false,
     "schema_version": 3,
     "solution": true,
     "task": false
    },
    "tags": []
   },
   "outputs": [],
   "source": [
    "mtr1 = np.array([[1, 1],\n",
    "                [2, 2]\n",
    "                ])\n",
    "mtr2 = np.array([[0, 0],\n",
    "                [3, 3]\n",
    "                ])\n",
    "result = mtr1 + mtr2"
   ]
  },
  {
   "cell_type": "code",
   "execution_count": 25,
   "id": "f3092ddf-6fff-4885-bece-439618b05eb4",
   "metadata": {
    "deletable": false,
    "editable": false,
    "nbgrader": {
     "cell_type": "code",
     "checksum": "baa386221452a22202061fa366698041",
     "grade": true,
     "grade_id": "cell-6626514d227b1c72",
     "locked": true,
     "points": 2,
     "schema_version": 3,
     "solution": false,
     "task": false
    },
    "tags": []
   },
   "outputs": [],
   "source": [
    "assert np.array_equal(result, np.array([[1, 1],\n",
    "                                        [5, 5]\n",
    "                                        ]))"
   ]
  },
  {
   "cell_type": "markdown",
   "id": "f49e5a17-b18c-4054-bd10-8346ee2a86fc",
   "metadata": {
    "deletable": false,
    "editable": false,
    "nbgrader": {
     "cell_type": "markdown",
     "checksum": "ee13f16c2ee986129005799a9df77fad",
     "grade": false,
     "grade_id": "cell-094c9f53fdef5cb0",
     "locked": true,
     "schema_version": 3,
     "solution": false,
     "task": false
    },
    "tags": []
   },
   "source": [
    "#### **Задание 12** (★☆)\n",
    "\n",
    "Умножьте две заданные матрицы поэлементно"
   ]
  },
  {
   "cell_type": "code",
   "execution_count": 26,
   "id": "0768eeaa-fa61-41f0-b097-21d0455a4fa7",
   "metadata": {
    "deletable": false,
    "nbgrader": {
     "cell_type": "code",
     "checksum": "d631b6e7827a45cefc56997ae0b4e125",
     "grade": false,
     "grade_id": "cell-233aad32932a7432",
     "locked": false,
     "schema_version": 3,
     "solution": true,
     "task": false
    },
    "tags": []
   },
   "outputs": [],
   "source": [
    "mtr1 = np.array([[1, 1],\n",
    "                [2, 2]\n",
    "                ])\n",
    "mtr2 = np.array([[0, 0],\n",
    "                [3, 3]\n",
    "                ])\n",
    "result = mtr1*mtr2"
   ]
  },
  {
   "cell_type": "code",
   "execution_count": 27,
   "id": "30648523-5b7a-46a4-a328-2ea8d622273c",
   "metadata": {
    "deletable": false,
    "editable": false,
    "nbgrader": {
     "cell_type": "code",
     "checksum": "a8769664ea2e4ba7f8a21b33d8fa86e3",
     "grade": true,
     "grade_id": "cell-4d374ad2be4104be",
     "locked": true,
     "points": 2,
     "schema_version": 3,
     "solution": false,
     "task": false
    },
    "tags": []
   },
   "outputs": [],
   "source": [
    "assert np.array_equal(result, np.array([[0, 0],\n",
    "                                        [6, 6]\n",
    "                                        ]))"
   ]
  },
  {
   "cell_type": "markdown",
   "id": "270ca9be-9b98-4b4c-8be6-4671c84f700b",
   "metadata": {
    "deletable": false,
    "editable": false,
    "nbgrader": {
     "cell_type": "markdown",
     "checksum": "827437e9c4b52e164f3915fa4faef372",
     "grade": false,
     "grade_id": "cell-80c7449f5bcc8e11",
     "locked": true,
     "schema_version": 3,
     "solution": false,
     "task": false
    },
    "tags": []
   },
   "source": [
    "#### **Задание 13** (★☆)\n",
    "\n",
    "Умножьте две заданные матрицы матрично"
   ]
  },
  {
   "cell_type": "code",
   "execution_count": 28,
   "id": "a78645b8-3802-4b80-9cd0-07ac9ecb53d4",
   "metadata": {
    "deletable": false,
    "nbgrader": {
     "cell_type": "code",
     "checksum": "05c901775424cc7b46b7234163f3dc42",
     "grade": false,
     "grade_id": "cell-cf37c10d511ad76a",
     "locked": false,
     "schema_version": 3,
     "solution": true,
     "task": false
    },
    "tags": []
   },
   "outputs": [],
   "source": [
    "mtr1 = np.array([[1, 1],\n",
    "                [2, 2]\n",
    "                ])\n",
    "mtr2 = np.array([[0, 0],\n",
    "                [3, 3]\n",
    "                ])\n",
    "result = mtr1 @ mtr2\n",
    "#np.matmul(mtr1, mtr2)\n",
    "#np.dot(mtr1, mtr2)"
   ]
  },
  {
   "cell_type": "code",
   "execution_count": 29,
   "id": "e2b7daff-7473-45a8-8e94-2c83c2ededc6",
   "metadata": {
    "deletable": false,
    "editable": false,
    "nbgrader": {
     "cell_type": "code",
     "checksum": "22436b08be821d6d961ea7b7b140630f",
     "grade": true,
     "grade_id": "cell-e892bbd6ff7ee7db",
     "locked": true,
     "points": 2,
     "schema_version": 3,
     "solution": false,
     "task": false
    },
    "tags": []
   },
   "outputs": [],
   "source": [
    "assert np.array_equal(result, np.array([[3, 3],\n",
    "                                        [6, 6]\n",
    "                                        ]))"
   ]
  },
  {
   "cell_type": "markdown",
   "id": "f7f3a309-4622-453b-9dc9-a10ada8b9e24",
   "metadata": {
    "deletable": false,
    "editable": false,
    "nbgrader": {
     "cell_type": "markdown",
     "checksum": "9358c13bfbc8a019236ad9046c49b9f6",
     "grade": false,
     "grade_id": "cell-0927fd990b5306af",
     "locked": true,
     "schema_version": 3,
     "solution": false,
     "task": false
    },
    "tags": []
   },
   "source": [
    "#### **Задание 14** (★☆) 🌐\n",
    "\n",
    "Вам дана матрица 2x3, переведите её в матрицу 3x2"
   ]
  },
  {
   "cell_type": "code",
   "execution_count": 30,
   "id": "f4acc5e1-5f67-4f81-b7da-1a0b4fc32258",
   "metadata": {
    "deletable": false,
    "nbgrader": {
     "cell_type": "code",
     "checksum": "38867259b51c76cc07f2ec58205ba7cb",
     "grade": false,
     "grade_id": "cell-097bd3d452be27a8",
     "locked": false,
     "schema_version": 3,
     "solution": true,
     "task": false
    },
    "tags": []
   },
   "outputs": [],
   "source": [
    "mtr = np.array([\n",
    "                [1, 1, 1],\n",
    "                [2, 2, 2]\n",
    "                ]\n",
    ")\n",
    "result = mtr.reshape(3,2)"
   ]
  },
  {
   "cell_type": "code",
   "execution_count": 31,
   "id": "905a8e05-0362-4037-b56f-3ed7c5237084",
   "metadata": {
    "deletable": false,
    "editable": false,
    "nbgrader": {
     "cell_type": "code",
     "checksum": "49ca4ce03d4291fae5d252a1e2c84bd2",
     "grade": true,
     "grade_id": "cell-e2699ce9b7be179f",
     "locked": true,
     "points": 3,
     "schema_version": 3,
     "solution": false,
     "task": false
    },
    "tags": []
   },
   "outputs": [],
   "source": [
    "assert np.array_equal(result, np.array([[1, 1],\n",
    "                                        [1, 2],\n",
    "                                        [2, 2]]))"
   ]
  },
  {
   "cell_type": "markdown",
   "id": "1ae84951-f565-4ce4-8be3-5c4de2f35b09",
   "metadata": {
    "deletable": false,
    "editable": false,
    "nbgrader": {
     "cell_type": "markdown",
     "checksum": "434c71bd96b11c655b666389dfc510cc",
     "grade": false,
     "grade_id": "cell-70e8c5ebfedc3712",
     "locked": true,
     "schema_version": 3,
     "solution": false,
     "task": false
    },
    "tags": []
   },
   "source": [
    "#### **Задание 15** (★☆) 🌐\n",
    "\n",
    "Вам дана матрица 3x3, переведите её в вектор из 9 элементов"
   ]
  },
  {
   "cell_type": "code",
   "execution_count": 32,
   "id": "bcf8d7ce-fdea-4296-9531-352aaf95b9a2",
   "metadata": {
    "deletable": false,
    "nbgrader": {
     "cell_type": "code",
     "checksum": "7494e91d255ba139374dace055d82ca8",
     "grade": false,
     "grade_id": "cell-22ca17c2d42885e5",
     "locked": false,
     "schema_version": 3,
     "solution": true,
     "task": false
    },
    "tags": []
   },
   "outputs": [],
   "source": [
    "mtr = np.array([\n",
    "                [1, 1, 1],\n",
    "                [2, 2, 2],\n",
    "                [3, 3, 3]\n",
    "                ]\n",
    ")\n",
    "result = mtr.reshape(-1)"
   ]
  },
  {
   "cell_type": "code",
   "execution_count": 33,
   "id": "e5c90a08-784b-47a8-ad2a-81d2fb5326e0",
   "metadata": {
    "deletable": false,
    "editable": false,
    "nbgrader": {
     "cell_type": "code",
     "checksum": "39de485bf2f1acfb7e7df3f7d9dfeaea",
     "grade": true,
     "grade_id": "cell-2d9eea5a9ad54ea7",
     "locked": true,
     "points": 3,
     "schema_version": 3,
     "solution": false,
     "task": false
    },
    "tags": []
   },
   "outputs": [],
   "source": [
    "assert np.array_equal(result, np.array([1, 1, 1, 2, 2, 2, 3, 3, 3]))"
   ]
  },
  {
   "cell_type": "markdown",
   "id": "52a43501-b8f7-4176-83fb-a6854abe6984",
   "metadata": {
    "deletable": false,
    "editable": false,
    "nbgrader": {
     "cell_type": "markdown",
     "checksum": "5e9fec1feeed99ec3d75e6bb7af5cf3e",
     "grade": false,
     "grade_id": "cell-915b788129e328cd",
     "locked": true,
     "schema_version": 3,
     "solution": false,
     "task": false
    },
    "tags": []
   },
   "source": [
    "#### **Задание 16** (★☆) 🌐\n",
    "\n",
    "Вам дана матрица 3x3, транспонируйте её"
   ]
  },
  {
   "cell_type": "code",
   "execution_count": 34,
   "id": "3791343f-1f18-4f33-96af-669714891fda",
   "metadata": {
    "deletable": false,
    "nbgrader": {
     "cell_type": "code",
     "checksum": "c749e432b8978ea863bd2c44760ed039",
     "grade": false,
     "grade_id": "cell-992989b3092b93cc",
     "locked": false,
     "schema_version": 3,
     "solution": true,
     "task": false
    },
    "tags": []
   },
   "outputs": [],
   "source": [
    "mtr = np.array([\n",
    "                [1, 1, 1],\n",
    "                [2, 2, 2],\n",
    "                [3, 3, 3]\n",
    "                ]\n",
    ")\n",
    "result = mtr.T\n",
    "#np.transpose(mtr)"
   ]
  },
  {
   "cell_type": "code",
   "execution_count": 35,
   "id": "89c69bef-1c09-4c44-8555-f82c5d6680d5",
   "metadata": {
    "deletable": false,
    "editable": false,
    "nbgrader": {
     "cell_type": "code",
     "checksum": "246381e513b8f00f502fe1d83ff7ba1e",
     "grade": true,
     "grade_id": "cell-cb03c5b94f8ba89d",
     "locked": true,
     "points": 2,
     "schema_version": 3,
     "solution": false,
     "task": false
    },
    "tags": []
   },
   "outputs": [],
   "source": [
    "assert np.array_equal(result, np.array([[1, 2, 3],\n",
    "                                        [1, 2, 3],\n",
    "                                        [1, 2, 3]]))"
   ]
  },
  {
   "cell_type": "markdown",
   "id": "6a315f78-2c12-4b13-8c6a-59d4addf1ec8",
   "metadata": {
    "deletable": false,
    "editable": false,
    "nbgrader": {
     "cell_type": "markdown",
     "checksum": "f7e369bbd7a4732f91b8b8b2600f3727",
     "grade": false,
     "grade_id": "cell-e8b64d0ef938b124",
     "locked": true,
     "schema_version": 3,
     "solution": false,
     "task": false
    },
    "tags": []
   },
   "source": [
    "#### **Задание 17** (★☆) 🌐\n",
    "\n",
    "Вам дана матрица 3x3, поверните её на 270 градусов (3 раза по 90 градусов)"
   ]
  },
  {
   "cell_type": "code",
   "execution_count": 36,
   "id": "a7c52842-acb2-41a6-82bb-db7431de2613",
   "metadata": {
    "deletable": false,
    "nbgrader": {
     "cell_type": "code",
     "checksum": "1ea44b981f5ca2bb9fe788dfa770c55c",
     "grade": false,
     "grade_id": "cell-19c8f0e83cdab328",
     "locked": false,
     "schema_version": 3,
     "solution": true,
     "task": false
    },
    "tags": []
   },
   "outputs": [],
   "source": [
    "mtr = np.array([\n",
    "                [1, 1, 1],\n",
    "                [2, 2, 2],\n",
    "                [3, 3, 3]\n",
    "                ]\n",
    ")\n",
    "result = np.rot90(mtr, 3)"
   ]
  },
  {
   "cell_type": "code",
   "execution_count": 37,
   "id": "d7cc83b1-f2d4-4f48-aa8d-fa4218ca5291",
   "metadata": {
    "deletable": false,
    "editable": false,
    "nbgrader": {
     "cell_type": "code",
     "checksum": "2b85f6e8d9bbe06473e9b64d8fb0d72b",
     "grade": true,
     "grade_id": "cell-b6da2013fe4d6c9d",
     "locked": true,
     "points": 3,
     "schema_version": 3,
     "solution": false,
     "task": false
    },
    "tags": []
   },
   "outputs": [],
   "source": [
    "assert np.array_equal(result, np.array([[3, 2, 1],\n",
    "                                        [3, 2, 1],\n",
    "                                        [3, 2, 1]]))"
   ]
  },
  {
   "cell_type": "markdown",
   "id": "42b9bfa6-2276-49db-a99c-62832837c36a",
   "metadata": {
    "deletable": false,
    "editable": false,
    "nbgrader": {
     "cell_type": "markdown",
     "checksum": "df9d7345edde35f266c2f3e78b09c51a",
     "grade": false,
     "grade_id": "cell-364a47c662af4b43",
     "locked": true,
     "schema_version": 3,
     "solution": false,
     "task": false
    },
    "tags": []
   },
   "source": [
    "#### **Задание 18** (★☆) 🌐\n",
    " \n",
    "Вам дано две матрицы 2x2, получите матрицу 4x2 \"поставив\" эти матрица одна на другую (первая сверху)."
   ]
  },
  {
   "cell_type": "code",
   "execution_count": 38,
   "id": "700fc237-7945-4b7b-8c28-2ca8f69829ec",
   "metadata": {
    "deletable": false,
    "nbgrader": {
     "cell_type": "code",
     "checksum": "7edd615fd92848af8e5e1bb467d0d55b",
     "grade": false,
     "grade_id": "cell-de7def3eef99b91c",
     "locked": false,
     "schema_version": 3,
     "solution": true,
     "task": false
    },
    "tags": []
   },
   "outputs": [],
   "source": [
    "mtr1 = np.array([[1, 1],\n",
    "                [2, 2]\n",
    "                ])\n",
    "mtr2 = np.array([[0, 0],\n",
    "                [3, 3]\n",
    "                ])\n",
    "result = np.concatenate((mtr1, mtr2), axis=0)"
   ]
  },
  {
   "cell_type": "code",
   "execution_count": 39,
   "id": "7b48e9a3-faee-4765-821c-77af0bba5d85",
   "metadata": {
    "deletable": false,
    "editable": false,
    "nbgrader": {
     "cell_type": "code",
     "checksum": "bce6bd6ca6ca3bda963da533f2bf5ebd",
     "grade": true,
     "grade_id": "cell-b1c48c547f14ce2c",
     "locked": true,
     "points": 3,
     "schema_version": 3,
     "solution": false,
     "task": false
    },
    "tags": []
   },
   "outputs": [],
   "source": [
    "assert np.array_equal(result, np.array([[1, 1],\n",
    "                                        [2, 2],\n",
    "                                        [0, 0],\n",
    "                                        [3, 3]]))"
   ]
  },
  {
   "cell_type": "markdown",
   "id": "3f6216c7-580f-4080-ae39-9ae59d11aa72",
   "metadata": {
    "deletable": false,
    "editable": false,
    "nbgrader": {
     "cell_type": "markdown",
     "checksum": "42b89b159e110c480e46d9e3edc127da",
     "grade": false,
     "grade_id": "cell-c15dcd428a2036e3",
     "locked": true,
     "schema_version": 3,
     "solution": false,
     "task": false
    },
    "tags": []
   },
   "source": [
    "#### **Задание 19** (★★)\n",
    "\n",
    "Вам дано 10 пар декартовых координат точек на плоскости (матрица 5x2). Переведите все пары декартовых координат $(x, y)$ в [полряные координаты](https://www.fxyz.ru/%D1%84%D0%BE%D1%80%D0%BC%D1%83%D0%BB%D1%8B_%D0%BF%D0%BE_%D0%BC%D0%B0%D1%82%D0%B5%D0%BC%D0%B0%D1%82%D0%B8%D0%BA%D0%B5/%D1%84%D1%83%D0%BD%D0%BA%D1%86%D0%B8%D0%B8_%D0%B8_%D0%B3%D1%80%D0%B0%D1%84%D0%B8%D0%BA%D0%B8/%D0%BA%D0%BE%D0%BE%D1%80%D0%B4%D0%B8%D0%BD%D0%B0%D1%82%D1%8B/%D0%BF%D0%B5%D1%80%D0%B5%D0%B2%D0%BE%D0%B4_%D0%B4%D0%B5%D0%BA%D0%B0%D1%80%D1%82%D0%BE%D0%B2%D1%8B%D1%85_%D0%BA%D0%BE%D0%BE%D1%80%D0%B4%D0%B8%D0%BD%D0%B0%D1%82_%D0%B2_%D0%BF%D0%BE%D0%BB%D1%8F%D1%80%D0%BD%D1%8B%D0%B5/) $(\\rho, \\varphi$). У вас также должна получиться матрица 10x2."
   ]
  },
  {
   "cell_type": "code",
   "execution_count": 40,
   "id": "8c7a0d38-88c8-49bb-a849-4e4b7be41d50",
   "metadata": {
    "deletable": false,
    "nbgrader": {
     "cell_type": "code",
     "checksum": "0cd949633182772d404df0208b26c33d",
     "grade": false,
     "grade_id": "cell-84a629e3a0621a90",
     "locked": false,
     "schema_version": 3,
     "solution": true,
     "task": false
    },
    "tags": []
   },
   "outputs": [],
   "source": [
    "coords = np.array([[0.65, 0.44],\n",
    "              [0.96, 0.08],\n",
    "              [0.16, 0.11],\n",
    "              [0.36, 0.07],\n",
    "              [0.89, 0.78],\n",
    "              [0.11, 0.97],\n",
    "              [0.08, 0.24],\n",
    "              [0.33, 0.61],\n",
    "              [0.86, 0.31],\n",
    "              [0.98, 0.61]])\n",
    "x,y = coords[:,0], coords[:,1]\n",
    "a = np.hypot(x, y)\n",
    "b = np.arctan2(y,x)\n",
    "result = np.array([a, b]).T"
   ]
  },
  {
   "cell_type": "code",
   "execution_count": 41,
   "id": "24e2e50d-16f5-4b3f-95d9-0c695946ed2e",
   "metadata": {
    "deletable": false,
    "editable": false,
    "nbgrader": {
     "cell_type": "code",
     "checksum": "e932943d1f63b0c8acca073c67b76893",
     "grade": true,
     "grade_id": "cell-b283ca9679052543",
     "locked": true,
     "points": 9,
     "schema_version": 3,
     "solution": false,
     "task": false
    },
    "tags": []
   },
   "outputs": [],
   "source": [
    "assert np.allclose(result, np.array([[0.78492038, 0.59506962],\n",
    "                                     [0.96332757, 0.08314123],\n",
    "                                     [0.19416488, 0.60228735],\n",
    "                                     [0.36674242, 0.19204802],\n",
    "                                     [1.18342723, 0.71962491],\n",
    "                                     [0.97621719, 1.45787667],\n",
    "                                     [0.25298221, 1.24904577],\n",
    "                                     [0.69354164, 1.07490184],\n",
    "                                     [0.91416629, 0.34596727],\n",
    "                                     [1.15433964, 0.55676277]]))"
   ]
  },
  {
   "cell_type": "markdown",
   "id": "4cbbcf82-8f2e-40c1-b71a-a377eb8c871b",
   "metadata": {
    "deletable": false,
    "editable": false,
    "nbgrader": {
     "cell_type": "markdown",
     "checksum": "979ef4f5b840c42e4e87ad1d5c6c294c",
     "grade": false,
     "grade_id": "cell-b1ab720378a75d5c",
     "locked": true,
     "schema_version": 3,
     "solution": false,
     "task": false
    },
    "tags": []
   },
   "source": [
    "#### **Задание 20** (★★)\n",
    "\n",
    "Вам дано два вектора $x$, $y$, посчитайте определитель [матрицы Коши](https://ru.wikipedia.org/wiki/%D0%9C%D0%B0%D1%82%D1%80%D0%B8%D1%86%D0%B0_%D0%9A%D0%BE%D1%88%D0%B8_(%D0%BB%D0%B8%D0%BD%D0%B5%D0%B9%D0%BD%D0%B0%D1%8F_%D0%B0%D0%BB%D0%B3%D0%B5%D0%B1%D1%80%D0%B0)) $det A$, где элементы $A$ вычисляются по формуле $a_{ij} = \\frac{1}{x_i - y_j} $"
   ]
  },
  {
   "cell_type": "code",
   "execution_count": 42,
   "id": "120c580a-def1-4adb-b74c-0cb1c02f4099",
   "metadata": {
    "deletable": false,
    "nbgrader": {
     "cell_type": "code",
     "checksum": "0f43d1d96f6f14f9da343a4b7c205da1",
     "grade": false,
     "grade_id": "cell-1f52f323aef2aa20",
     "locked": false,
     "schema_version": 3,
     "solution": true,
     "task": false
    },
    "tags": []
   },
   "outputs": [],
   "source": [
    "x = np.array([0, 1, 2, 3, 4, 5, 6, 7])\n",
    "y = np.array([ 2.5,  3.5,  4.5,  5.5,  6.5,  7.5,  8.5,  9.5])\n",
    "\n",
    "result = np.linalg.det(1 / np.subtract.outer(x, y))"
   ]
  },
  {
   "cell_type": "code",
   "execution_count": 43,
   "id": "176c4ecc-7249-4923-933e-1d79c1e01a0b",
   "metadata": {
    "deletable": false,
    "editable": false,
    "nbgrader": {
     "cell_type": "code",
     "checksum": "399bb9b59584dd38fdcd0ce05b29c8e9",
     "grade": true,
     "grade_id": "cell-b4d3a3abf081a348",
     "locked": true,
     "points": 6,
     "schema_version": 3,
     "solution": false,
     "task": false
    },
    "tags": []
   },
   "outputs": [],
   "source": [
    "assert np.isclose(result, -0.0020386723097196844)"
   ]
  },
  {
   "cell_type": "markdown",
   "id": "45c75942-d09c-4db6-8ee0-cfe4157deca1",
   "metadata": {
    "deletable": false,
    "editable": false,
    "nbgrader": {
     "cell_type": "markdown",
     "checksum": "162d3c99817a9439f354f903fcd55168",
     "grade": false,
     "grade_id": "cell-ef0ba736bb0d0185",
     "locked": true,
     "schema_version": 3,
     "solution": false,
     "task": false
    },
    "tags": []
   },
   "source": [
    "#### **Задание 21** (★☆)\n",
    "\n",
    "Вам дан вектор значений, посчитайте [сигмоиду](https://en.wikipedia.org/wiki/Sigmoid_function) от этого вектора"
   ]
  },
  {
   "cell_type": "code",
   "execution_count": 44,
   "id": "31c302fc-da17-4da7-b3cf-a9f57f2f37bb",
   "metadata": {
    "deletable": false,
    "nbgrader": {
     "cell_type": "code",
     "checksum": "7f71e63a5e7cc01548d5ec3412434065",
     "grade": false,
     "grade_id": "cell-fedb26e52cd43fd0",
     "locked": false,
     "schema_version": 3,
     "solution": true,
     "task": false
    },
    "tags": []
   },
   "outputs": [],
   "source": [
    "x = np.array([0, 1, 2, 3, 4, 5, 6, 7])\n",
    "\n",
    "result = result = 1 / ( 1 + np.exp(-x))"
   ]
  },
  {
   "cell_type": "code",
   "execution_count": 45,
   "id": "19fe83a0-0498-484e-a334-12812d54027c",
   "metadata": {
    "deletable": false,
    "editable": false,
    "nbgrader": {
     "cell_type": "code",
     "checksum": "1a6ab621d2f8c72724ba37015bdc6100",
     "grade": true,
     "grade_id": "cell-8533270e0383f3cb",
     "locked": true,
     "points": 2,
     "schema_version": 3,
     "solution": false,
     "task": false
    },
    "tags": []
   },
   "outputs": [],
   "source": [
    "assert np.allclose(result, np.array([0.5, 0.73105858, 0.88079708, 0.95257413, 0.98201379, 0.99330715, 0.99752738, 0.99908895]))"
   ]
  },
  {
   "cell_type": "markdown",
   "id": "ffa3c9da-2242-4464-acb8-442d844e60ec",
   "metadata": {
    "deletable": false,
    "editable": false,
    "nbgrader": {
     "cell_type": "markdown",
     "checksum": "45728517ca2e6d4160dbc165f9d8c610",
     "grade": false,
     "grade_id": "cell-164b3ffb5a68bfe9",
     "locked": true,
     "schema_version": 3,
     "solution": false,
     "task": false
    },
    "tags": []
   },
   "source": [
    "## III. Поиск в массивах"
   ]
  },
  {
   "cell_type": "markdown",
   "id": "6b33e42b-8f26-441c-b5f2-024319e8e87b",
   "metadata": {
    "deletable": false,
    "editable": false,
    "nbgrader": {
     "cell_type": "markdown",
     "checksum": "4e87862968567548203cc0d97a051951",
     "grade": false,
     "grade_id": "cell-11cb8faacea9632a",
     "locked": true,
     "schema_version": 3,
     "solution": false,
     "task": false
    },
    "tags": []
   },
   "source": [
    "#### **Задание 22** (★☆)\n",
    "\n",
    "Вам дан вектор значений, сделайте маску для поиска положительных чисел в массиве (строго больше, в ответе просто маска)"
   ]
  },
  {
   "cell_type": "code",
   "execution_count": 46,
   "id": "38e53969-3903-40d1-b3d9-3a90b4afd5ea",
   "metadata": {
    "deletable": false,
    "nbgrader": {
     "cell_type": "code",
     "checksum": "37f45cdfba7918ea0b775c42ae892c30",
     "grade": false,
     "grade_id": "cell-3ecfd1321ac38bcd",
     "locked": false,
     "schema_version": 3,
     "solution": true,
     "task": false
    },
    "tags": []
   },
   "outputs": [],
   "source": [
    "arr = np.array([-1, 2, 0, -10, 5, 6, 7])\n",
    "\n",
    "result = arr > 0"
   ]
  },
  {
   "cell_type": "code",
   "execution_count": 47,
   "id": "79d3b2a0-38c2-4043-9011-90551a67181d",
   "metadata": {
    "deletable": false,
    "editable": false,
    "nbgrader": {
     "cell_type": "code",
     "checksum": "50d814303cb620bae4af630490b13819",
     "grade": true,
     "grade_id": "cell-e3f6d04510d24f0a",
     "locked": true,
     "points": 2,
     "schema_version": 3,
     "solution": false,
     "task": false
    },
    "tags": []
   },
   "outputs": [],
   "source": [
    "assert np.array_equal(result, np.array([False,  True, False, False,  True,  True,  True]))"
   ]
  },
  {
   "cell_type": "markdown",
   "id": "d58cd78b-a744-46bf-9475-3bc75a351b1c",
   "metadata": {
    "deletable": false,
    "editable": false,
    "nbgrader": {
     "cell_type": "markdown",
     "checksum": "e4bc0600cab922ca0cd98e0986373778",
     "grade": false,
     "grade_id": "cell-d95a3857776291d6",
     "locked": true,
     "schema_version": 3,
     "solution": false,
     "task": false
    },
    "tags": []
   },
   "source": [
    "#### **Задание 23** (★☆) 🌐\n",
    "\n",
    "Вам дан вектор, получите индексы ненулевых элементов в векторе"
   ]
  },
  {
   "cell_type": "code",
   "execution_count": 48,
   "id": "f3be14ba-c17e-4187-b14a-0e5fbb8aad76",
   "metadata": {
    "deletable": false,
    "nbgrader": {
     "cell_type": "code",
     "checksum": "3f78cfb989592358e0c96e452d61d9a9",
     "grade": false,
     "grade_id": "cell-e4ee9e8833db8a72",
     "locked": false,
     "schema_version": 3,
     "solution": true,
     "task": false
    },
    "tags": []
   },
   "outputs": [],
   "source": [
    "arr = np.array([-1, 2, 0, -10, 5, 6, 7])\n",
    "\n",
    "result = np.flatnonzero(arr)"
   ]
  },
  {
   "cell_type": "code",
   "execution_count": 49,
   "id": "ead58014-dd8d-4739-bd43-9b11c10c7887",
   "metadata": {
    "deletable": false,
    "editable": false,
    "nbgrader": {
     "cell_type": "code",
     "checksum": "bbcb3d8344a6b7fe14c72637044f94ea",
     "grade": true,
     "grade_id": "cell-63e39120fc1b281d",
     "locked": true,
     "points": 2,
     "schema_version": 3,
     "solution": false,
     "task": false
    },
    "tags": []
   },
   "outputs": [],
   "source": [
    "assert np.array_equal(result, np.array([0, 1, 3, 4, 5, 6]))"
   ]
  },
  {
   "cell_type": "markdown",
   "id": "879bd76a-cdf8-4a3d-b6d9-9bd773957e8d",
   "metadata": {
    "deletable": false,
    "editable": false,
    "nbgrader": {
     "cell_type": "markdown",
     "checksum": "6cbba1aaf9fcbabda5b8535699a6e82b",
     "grade": false,
     "grade_id": "cell-752e8edcb39ac078",
     "locked": true,
     "schema_version": 3,
     "solution": false,
     "task": false
    },
    "tags": []
   },
   "source": [
    "#### **Задание 24** (★★) 🌐\n",
    "\n",
    "Вам дан массив, выведите массив где все отрицательные числа остались на том же месте, а на месте неотрицательных чисел стоят их квадраты."
   ]
  },
  {
   "cell_type": "code",
   "execution_count": 50,
   "id": "81ae3beb-d0c3-4684-a63a-d444d445dfc0",
   "metadata": {
    "deletable": false,
    "nbgrader": {
     "cell_type": "code",
     "checksum": "f6348ac9ceadc6349dbb8ae7beacbe4a",
     "grade": false,
     "grade_id": "cell-304be7d582634d49",
     "locked": false,
     "schema_version": 3,
     "solution": true,
     "task": false
    },
    "tags": []
   },
   "outputs": [],
   "source": [
    "arr = np.array([\n",
    "               [-1, 2, 0],\n",
    "               [-10, 5, 6],\n",
    "               [11, -11, -0.5]\n",
    "               ])\n",
    "\n",
    "result = np.where(arr > 0, arr ** 2, arr)\n",
    "print(result)"
   ]
  },
  {
   "cell_type": "code",
   "execution_count": 51,
   "id": "b68f2891-f9af-455a-b442-82f27f3f9d18",
   "metadata": {
    "deletable": false,
    "editable": false,
    "nbgrader": {
     "cell_type": "code",
     "checksum": "2813b1ce3d242aaa6577a5655b2d3375",
     "grade": true,
     "grade_id": "cell-1cb68478de452739",
     "locked": true,
     "points": 3,
     "schema_version": 3,
     "solution": false,
     "task": false
    },
    "tags": []
   },
   "outputs": [],
   "source": [
    "assert np.array_equal(result, np.array([[ -1. ,   4. ,   0. ],\n",
    "                                        [-10. ,  25. ,  36. ],\n",
    "                                        [121. , -11. ,  -0.5]]))"
   ]
  },
  {
   "cell_type": "markdown",
   "id": "1e01b671-affe-4275-8830-8728a11c4f3d",
   "metadata": {
    "deletable": false,
    "editable": false,
    "nbgrader": {
     "cell_type": "markdown",
     "checksum": "83743abd685d761e580903fe4044d3e1",
     "grade": false,
     "grade_id": "cell-0f3e046a0f3310f5",
     "locked": true,
     "schema_version": 3,
     "solution": false,
     "task": false
    },
    "tags": []
   },
   "source": [
    "#### **Задание 25** (★☆) 🌐\n",
    "\n",
    "Вам дан вектор значений и вектор индексов. Выберете значения соответствующие индексам."
   ]
  },
  {
   "cell_type": "code",
   "execution_count": 52,
   "id": "fe38cbc0-060d-45e4-8e64-f21bf2fa8726",
   "metadata": {
    "deletable": false,
    "nbgrader": {
     "cell_type": "code",
     "checksum": "70799b04cab05e34d616af1c7179ec7d",
     "grade": false,
     "grade_id": "cell-1759eabfe0177f5e",
     "locked": false,
     "schema_version": 3,
     "solution": true,
     "task": false
    },
    "tags": []
   },
   "outputs": [],
   "source": [
    "arr = np.array([-1, 2, 0, -10, 5, 6, 7])\n",
    "indices = [0, 1, -1]\n",
    "\n",
    "result = arr.flat[indices]"
   ]
  },
  {
   "cell_type": "code",
   "execution_count": 53,
   "id": "60d4acc5-4613-4b77-9d28-4fa529a34e60",
   "metadata": {
    "deletable": false,
    "editable": false,
    "nbgrader": {
     "cell_type": "code",
     "checksum": "930caeb4b97560c5b4d4b88d886c53b9",
     "grade": true,
     "grade_id": "cell-08a9f8644fe4c62a",
     "locked": true,
     "points": 3,
     "schema_version": 3,
     "solution": false,
     "task": false
    },
    "tags": []
   },
   "outputs": [],
   "source": [
    "assert np.array_equal(result, np.array([-1,  2,  7]))"
   ]
  },
  {
   "cell_type": "markdown",
   "id": "665cf842-01cf-4990-acb0-b7822dc24430",
   "metadata": {
    "deletable": false,
    "editable": false,
    "nbgrader": {
     "cell_type": "markdown",
     "checksum": "fe0f3c9cdd3ea3d275211c43d19a8ad1",
     "grade": false,
     "grade_id": "cell-e5f6bfd75a8a99d8",
     "locked": true,
     "schema_version": 3,
     "solution": false,
     "task": false
    },
    "tags": []
   },
   "source": [
    "#### **Задание 26** (★★) 🌐\n",
    " \n",
    "Вам дан вектор значений и функция. Подберите такую переменную `indexes`, чтобы получить 3-мерный массив, где на главной диагонали везде находится последнее значение из вектора, а в остальных ячейках - первое."
   ]
  },
  {
   "cell_type": "code",
   "execution_count": 54,
   "id": "d1306409-bd8d-4d95-8611-cfa670c8aa2e",
   "metadata": {
    "deletable": false,
    "nbgrader": {
     "cell_type": "code",
     "checksum": "d584688550f6348858c65e5c4d424d03",
     "grade": false,
     "grade_id": "cell-4aca204d0d46dba6",
     "locked": false,
     "schema_version": 3,
     "solution": true,
     "task": false
    },
    "tags": []
   },
   "outputs": [],
   "source": [
    "arr = np.array([7, 0, -10, 5, 6, 2])\n",
    "\n",
    "indices = np.where(np.eye(3), -1, 0)\n",
    "result = np.take(arr, indices)"
   ]
  },
  {
   "cell_type": "code",
   "execution_count": 55,
   "id": "ce76dfa5-a54d-4402-89e9-ea17759f03b3",
   "metadata": {
    "deletable": false,
    "editable": false,
    "nbgrader": {
     "cell_type": "code",
     "checksum": "a65489474ce58c7c8c4c131e1b24d331",
     "grade": true,
     "grade_id": "cell-31db76215e8df45f",
     "locked": true,
     "points": 2,
     "schema_version": 3,
     "solution": false,
     "task": false
    },
    "tags": []
   },
   "outputs": [],
   "source": [
    "assert np.array_equal(result, np.array([[2, 7, 7],\n",
    "                                        [7, 2, 7],\n",
    "                                        [7, 7, 2]]))"
   ]
  },
  {
   "cell_type": "markdown",
   "id": "7e0328d7-4d85-48b3-8da4-d0a32f5ba08f",
   "metadata": {
    "deletable": false,
    "editable": false,
    "nbgrader": {
     "cell_type": "markdown",
     "checksum": "afd1524fb7023c67fcade644a4a99fee",
     "grade": false,
     "grade_id": "cell-56033cf66fb1fb9e",
     "locked": true,
     "schema_version": 3,
     "solution": false,
     "task": false
    },
    "tags": []
   },
   "source": [
    "#### **Задание 27** (★☆) 🌐\n",
    "\n",
    "Верните индексы максимального элемента в каждом столбце матрицы. "
   ]
  },
  {
   "cell_type": "code",
   "execution_count": 56,
   "id": "7916f90d-135f-45b6-baa4-5401bf0591ce",
   "metadata": {
    "deletable": false,
    "nbgrader": {
     "cell_type": "code",
     "checksum": "738c71bf2fb8f7a6c66d09991a6350ec",
     "grade": false,
     "grade_id": "cell-2628abb3dd278812",
     "locked": false,
     "schema_version": 3,
     "solution": true,
     "task": false
    },
    "tags": []
   },
   "outputs": [],
   "source": [
    "arr = np.array([\n",
    "               [-1, 2, 0],\n",
    "               [-10, 5, 6]\n",
    "               ])\n",
    "\n",
    "\n",
    "result = np.argmax(arr, axis=0)"
   ]
  },
  {
   "cell_type": "code",
   "execution_count": 57,
   "id": "1c246255-0b55-4752-b83a-e632b21f6ff0",
   "metadata": {
    "deletable": false,
    "editable": false,
    "nbgrader": {
     "cell_type": "code",
     "checksum": "14e513b539972502efc3308d8de16a22",
     "grade": true,
     "grade_id": "cell-d4c6da3a97935c2c",
     "locked": true,
     "points": 2,
     "schema_version": 3,
     "solution": false,
     "task": false
    },
    "tags": []
   },
   "outputs": [],
   "source": [
    "assert np.array_equal(result, np.array([0, 1, 1]))"
   ]
  },
  {
   "cell_type": "markdown",
   "id": "25bfb65d-b637-4601-8999-59aba310a90b",
   "metadata": {
    "deletable": false,
    "editable": false,
    "nbgrader": {
     "cell_type": "markdown",
     "checksum": "04f22cf35e3f9a350419b3659efb4fb6",
     "grade": false,
     "grade_id": "cell-dd93d1d11ac83417",
     "locked": true,
     "schema_version": 3,
     "solution": false,
     "task": false
    },
    "tags": []
   },
   "source": [
    "## IV. Великий рандом\n",
    "\n",
    "> Отдельная важная часть библиотеки `numpy` - работа со случайными числами. Мы не успели посмотреть её на лекции, но тут ничего сложного. Для лучшего понимания советую почитать про [Генератор псевдослучайных чисел](https://ru.wikipedia.org/wiki/%D0%93%D0%B5%D0%BD%D0%B5%D1%80%D0%B0%D1%82%D0%BE%D1%80_%D0%BF%D1%81%D0%B5%D0%B2%D0%B4%D0%BE%D1%81%D0%BB%D1%83%D1%87%D0%B0%D0%B9%D0%BD%D1%8B%D1%85_%D1%87%D0%B8%D1%81%D0%B5%D0%BB) (на котором основывается `numpy` и не только `numpy`) и wiki `numpy` про модуль [Random](https://numpy.org/doc/stable/reference/random/index.html).\n",
    "\n",
    "В этой части используйте самый простой функционал - через `np.random.[функция]`.  **НЕ НАДО** создавать отдельные генераторы через `RandomState`, `Generator`, `default_rng`, `BitGenerator` и т.п."
   ]
  },
  {
   "cell_type": "markdown",
   "id": "d956c6e7-4258-44a8-9278-bddb99076a20",
   "metadata": {
    "deletable": false,
    "editable": false,
    "nbgrader": {
     "cell_type": "markdown",
     "checksum": "c506ddbe52170514ff383e569056c839",
     "grade": false,
     "grade_id": "cell-3a62847cbebc1205",
     "locked": true,
     "schema_version": 3,
     "solution": false,
     "task": false
    },
    "tags": []
   },
   "source": [
    "#### **Задание 28** (★☆) 🌐\n",
    "\n",
    "Зафиксируйте сид ГПСЧ numpy числом `3_099_734_149`."
   ]
  },
  {
   "cell_type": "code",
   "execution_count": 58,
   "id": "047dcb76-7625-434d-86d3-b53b148d7360",
   "metadata": {
    "deletable": false,
    "nbgrader": {
     "cell_type": "code",
     "checksum": "f99cb8a7d921664233f1ced9cdda2dc1",
     "grade": false,
     "grade_id": "cell-c65294d179583d1b",
     "locked": false,
     "schema_version": 3,
     "solution": true,
     "task": false
    },
    "tags": []
   },
   "outputs": [],
   "source": [
    "result = np.random.seed(3_099_734_149)"
   ]
  },
  {
   "cell_type": "code",
   "execution_count": 59,
   "id": "0c9abc3f-210f-4eda-ba35-bcb253dda1b1",
   "metadata": {
    "deletable": false,
    "editable": false,
    "nbgrader": {
     "cell_type": "code",
     "checksum": "763872139c4e9c1d09396e102eca7e47",
     "grade": true,
     "grade_id": "cell-2f9b56bcfbed2b42",
     "locked": true,
     "points": 2,
     "schema_version": 3,
     "solution": false,
     "task": false
    },
    "tags": []
   },
   "outputs": [],
   "source": [
    "assert np.random.get_state()[1][0] == 3_099_734_149"
   ]
  },
  {
   "cell_type": "markdown",
   "id": "2e9f49fb-97a6-4b98-9887-28afb4427bd4",
   "metadata": {
    "deletable": false,
    "editable": false,
    "nbgrader": {
     "cell_type": "markdown",
     "checksum": "e8fc9402802c9c6b6b816f6227358860",
     "grade": false,
     "grade_id": "cell-24eca770d5c1c032",
     "locked": true,
     "schema_version": 3,
     "solution": false,
     "task": false
    },
    "tags": []
   },
   "source": [
    "#### **Задание 29** (★☆) \n",
    "\n",
    "Напишите **РОВНО** 3 или 4 предложения на русском, где вашими словами объясняется что такое `seed` и зачем он нужен."
   ]
  },
  {
   "cell_type": "markdown",
   "id": "4a767084-f5fa-440b-a671-9fff9ebd43e5",
   "metadata": {
    "deletable": false,
    "nbgrader": {
     "cell_type": "markdown",
     "checksum": "856b3e5ed6b2ca88386e367afe8e8ae0",
     "grade": true,
     "grade_id": "cell-c347d894f44b6e89",
     "locked": false,
     "points": 1,
     "schema_version": 3,
     "solution": true,
     "task": false
    },
    "tags": []
   },
   "source": [
    "seed - это определенное число, которое задает начальное состояние для генератора чисел. Он нужен для того, чтобы результаты, запускаемые на разных устройствах/в разное время/разными людьми были воспроизводимы, т.е. были одинаковыми при первом запуске. Благодаря seed задаваемые случайные числа становятся предсказуемыми."
   ]
  },
  {
   "cell_type": "markdown",
   "id": "61704b8f-c78a-4375-bc4e-5ce1f379d52c",
   "metadata": {
    "deletable": false,
    "editable": false,
    "nbgrader": {
     "cell_type": "markdown",
     "checksum": "d79786d7746d4b1ee5cd2f227b1c529e",
     "grade": false,
     "grade_id": "cell-dac07863317d2f91",
     "locked": true,
     "schema_version": 3,
     "solution": false,
     "task": false
    },
    "tags": []
   },
   "source": [
    "> А также подумайте, если мы зафиксировали сид, то нам будут выпадать каждый раз одни и те же случайные значения? Или нет? Что в данном случае означает слово \"воспроизводимость\". Ответ: каждый раз генерируя случайное значение, вы будете получать новое значение. Но если вы перезапустите ядро, то при повторении процедуры вы будете получать те же самые случайные значения в том же порядке. Почему так? (ответьте в своей голове)"
   ]
  },
  {
   "cell_type": "markdown",
   "id": "fe8ece1c-a635-42c4-877b-acb3c0bc4c46",
   "metadata": {
    "deletable": false,
    "editable": false,
    "nbgrader": {
     "cell_type": "markdown",
     "checksum": "49821ee204be341a4892a608224aa1d1",
     "grade": false,
     "grade_id": "cell-1b77db2dc0bfff26",
     "locked": true,
     "schema_version": 3,
     "solution": false,
     "task": false
    },
    "tags": []
   },
   "source": [
    "#### **Задание 30** (★☆) 🌐\n",
    "\n",
    "Вам предложен список оценок за курс по питону. Выберите случайную оценку из списка."
   ]
  },
  {
   "cell_type": "code",
   "execution_count": 60,
   "id": "bf20a5d1-e38c-4242-9af3-28961c2f36dc",
   "metadata": {
    "deletable": false,
    "nbgrader": {
     "cell_type": "code",
     "checksum": "9c2faf46b571a9f19ebfa566005be12e",
     "grade": false,
     "grade_id": "cell-2bcbeb9b3d41641b",
     "locked": false,
     "schema_version": 3,
     "solution": true,
     "task": false
    },
    "tags": []
   },
   "outputs": [],
   "source": [
    "marks = ['A', 'B', 'C', 'D', 'E', 'F']\n",
    "\n",
    "mark = np.random.choice(marks)"
   ]
  },
  {
   "cell_type": "code",
   "execution_count": 61,
   "id": "75de0f66-4a39-4272-8763-fab46a5656cb",
   "metadata": {
    "deletable": false,
    "editable": false,
    "nbgrader": {
     "cell_type": "code",
     "checksum": "00f269cbfe5a459367fe320ace758a19",
     "grade": true,
     "grade_id": "cell-34d25c5ef3bc98ad",
     "locked": true,
     "points": 2,
     "schema_version": 3,
     "solution": false,
     "task": false
    },
    "tags": []
   },
   "outputs": [],
   "source": [
    "assert mark == 'C'"
   ]
  },
  {
   "cell_type": "markdown",
   "id": "cd558b7e-7339-492e-8b61-524619280110",
   "metadata": {
    "deletable": false,
    "editable": false,
    "nbgrader": {
     "cell_type": "markdown",
     "checksum": "52d8a3e6698bcc0beb26752681954210",
     "grade": false,
     "grade_id": "cell-38a125012a944145",
     "locked": true,
     "schema_version": 3,
     "solution": false,
     "task": false
    },
    "tags": []
   },
   "source": [
    "#### **Задание 31** (★☆) 🌐\n",
    "\n",
    "Сгенерируйте случайное целое число между 0 (inclusive) и 10 (exclusive)"
   ]
  },
  {
   "cell_type": "code",
   "execution_count": 62,
   "id": "56d126ef-3b69-4b26-9a39-484db30ed451",
   "metadata": {
    "deletable": false,
    "nbgrader": {
     "cell_type": "code",
     "checksum": "c4488ae1bd0f0d5a6e710e99024f8aec",
     "grade": false,
     "grade_id": "cell-de4243d34bd4ee52",
     "locked": false,
     "schema_version": 3,
     "solution": true,
     "task": false
    },
    "tags": []
   },
   "outputs": [],
   "source": [
    "number = np.random.randint(0, high=10)"
   ]
  },
  {
   "cell_type": "code",
   "execution_count": 63,
   "id": "85606f38-e78c-4e20-913a-366d813d4b7a",
   "metadata": {
    "deletable": false,
    "editable": false,
    "nbgrader": {
     "cell_type": "code",
     "checksum": "68a06896b80d0cfc44a04d9d6f5fb994",
     "grade": true,
     "grade_id": "cell-9931b1c33d71c91d",
     "locked": true,
     "points": 2,
     "schema_version": 3,
     "solution": false,
     "task": false
    },
    "tags": []
   },
   "outputs": [],
   "source": [
    "assert number == 6"
   ]
  },
  {
   "cell_type": "markdown",
   "id": "c6e627a2-d067-4bb0-8d91-22822481d1ca",
   "metadata": {
    "deletable": false,
    "editable": false,
    "nbgrader": {
     "cell_type": "markdown",
     "checksum": "1f4d319044b01f9b888ad6c7e9bc62a8",
     "grade": false,
     "grade_id": "cell-31cc91f9b801a3e7",
     "locked": true,
     "schema_version": 3,
     "solution": false,
     "task": false
    },
    "tags": []
   },
   "source": [
    "#### **Задание 32** (★☆) 🌐\n",
    "\n",
    "Сгенерируйте массив [вероятностей](https://ru.wikipedia.org/wiki/%D0%92%D0%B5%D1%80%D0%BE%D1%8F%D1%82%D0%BD%D0%BE%D1%81%D1%82%D1%8C#%D0%A1%D0%B2%D0%BE%D0%B9%D1%81%D1%82%D0%B2%D0%B0_%D0%B2%D0%B5%D1%80%D0%BE%D1%8F%D1%82%D0%BD%D0%BE%D1%81%D1%82%D0%B8)  размерностью 2x2"
   ]
  },
  {
   "cell_type": "code",
   "execution_count": 64,
   "id": "82de34a2-0452-4057-914f-67f8f72b5543",
   "metadata": {
    "deletable": false,
    "nbgrader": {
     "cell_type": "code",
     "checksum": "c2686ce204de737e271a4fabb02ae3b6",
     "grade": false,
     "grade_id": "cell-59334c907c2af21e",
     "locked": false,
     "schema_version": 3,
     "solution": true,
     "task": false
    },
    "tags": []
   },
   "outputs": [],
   "source": [
    "probs = np.random.rand(2, 2)"
   ]
  },
  {
   "cell_type": "code",
   "execution_count": 65,
   "id": "115cd7e5-8e2f-4b75-80a7-5f66fa08c896",
   "metadata": {
    "deletable": false,
    "editable": false,
    "nbgrader": {
     "cell_type": "code",
     "checksum": "417ebf5d2d07d9f9887241c93202441b",
     "grade": true,
     "grade_id": "cell-a37548867423bd70",
     "locked": true,
     "points": 2,
     "schema_version": 3,
     "solution": false,
     "task": false
    },
    "tags": []
   },
   "outputs": [],
   "source": [
    "assert np.allclose(probs, np.array([[0.35928318, 0.5584223 ],\n",
    "                                 [0.12939988, 0.68296292]])\n",
    "                  )"
   ]
  },
  {
   "cell_type": "markdown",
   "id": "803d761c-aa10-4131-adab-ff71da339021",
   "metadata": {
    "deletable": false,
    "editable": false,
    "nbgrader": {
     "cell_type": "markdown",
     "checksum": "332a0cfc8bd94219f0ebf21077970117",
     "grade": false,
     "grade_id": "cell-9ae5e096fdb79333",
     "locked": true,
     "schema_version": 3,
     "solution": false,
     "task": false
    },
    "tags": []
   },
   "source": [
    "#### **Задание 33** (★☆) 🌐\n",
    "\n",
    "Сгенерируйте 5 случайных чисел из равномерного распределения с параметрами $a=2, b=55$"
   ]
  },
  {
   "cell_type": "code",
   "execution_count": 66,
   "id": "a9649033-9678-4c0b-b94c-65d22a5ea744",
   "metadata": {
    "deletable": false,
    "nbgrader": {
     "cell_type": "code",
     "checksum": "4033a71ed617a99b37ce7a6d7d4bdf9d",
     "grade": false,
     "grade_id": "cell-231edc4150c82d07",
     "locked": false,
     "schema_version": 3,
     "solution": true,
     "task": false
    },
    "tags": []
   },
   "outputs": [],
   "source": [
    "numbers = np.random.uniform(low=2.0, high=55.0, size=5)"
   ]
  },
  {
   "cell_type": "code",
   "execution_count": 67,
   "id": "a01415dd-a627-4da8-bbc6-5538797210d2",
   "metadata": {
    "deletable": false,
    "editable": false,
    "nbgrader": {
     "cell_type": "code",
     "checksum": "1c1542b167bbe76bcc2c6e635484f5ea",
     "grade": true,
     "grade_id": "cell-ddbbb08c115bf28e",
     "locked": true,
     "points": 2,
     "schema_version": 3,
     "solution": false,
     "task": false
    },
    "tags": []
   },
   "outputs": [],
   "source": [
    "assert np.allclose(numbers, np.array([21.28655049, 54.23020856, 41.54699812, 31.22932382, 12.25757421]))"
   ]
  },
  {
   "cell_type": "markdown",
   "id": "7d91e750-fd82-4701-a2db-99e60459587c",
   "metadata": {
    "deletable": false,
    "editable": false,
    "nbgrader": {
     "cell_type": "markdown",
     "checksum": "c3791aa19de7bcbea7c5c6e36a9647da",
     "grade": false,
     "grade_id": "cell-c5484897f2e4e0a4",
     "locked": true,
     "schema_version": 3,
     "solution": false,
     "task": false
    },
    "tags": []
   },
   "source": [
    "#### **Задание 34** (★☆) 🌐\n",
    "\n",
    "Сгенерируйте 5 случайных чисел из нормального распределения с параметрами $\\mu = 10, \\sigma = 15$"
   ]
  },
  {
   "cell_type": "code",
   "execution_count": 68,
   "id": "206be60f-7d02-4334-be48-811bf52abf04",
   "metadata": {
    "deletable": false,
    "nbgrader": {
     "cell_type": "code",
     "checksum": "12b2def7af27ba357fad6627ef17c750",
     "grade": false,
     "grade_id": "cell-d219897f085f07ff",
     "locked": false,
     "schema_version": 3,
     "solution": true,
     "task": false
    },
    "tags": []
   },
   "outputs": [],
   "source": [
    "mu, sigma = 10, 15\n",
    "numbers = np.random.normal(mu, sigma, 5)"
   ]
  },
  {
   "cell_type": "code",
   "execution_count": 69,
   "id": "ddf8cae6-3a84-4e28-9d8c-97a1ccc2e12a",
   "metadata": {
    "deletable": false,
    "editable": false,
    "nbgrader": {
     "cell_type": "code",
     "checksum": "95b02ea50d3aff18110443fde52d2f7b",
     "grade": true,
     "grade_id": "cell-3699a882c0bdb6e3",
     "locked": true,
     "points": 2,
     "schema_version": 3,
     "solution": false,
     "task": false
    },
    "tags": []
   },
   "outputs": [],
   "source": [
    "assert np.allclose(numbers, np.array([ 0.80725362, 20.30002062,  9.92106564,  3.60193382,  8.64049947]))"
   ]
  },
  {
   "cell_type": "markdown",
   "id": "80eda8ed-f6c1-4ccb-857b-91b4ff576b01",
   "metadata": {
    "deletable": false,
    "editable": false,
    "nbgrader": {
     "cell_type": "markdown",
     "checksum": "80dd5d8313e09ea567bfac0c51fec092",
     "grade": false,
     "grade_id": "cell-1c764442dd839109",
     "locked": true,
     "schema_version": 3,
     "solution": false,
     "task": false
    },
    "tags": []
   },
   "source": [
    "#### **Задание 35** (★☆) 🌐\n",
    "\n",
    "Вам дан вектор объектов. Сделайте случайную перестановку в этом векторе."
   ]
  },
  {
   "cell_type": "code",
   "execution_count": 70,
   "id": "1daa7294-8939-4c2e-b93d-9b5cfe52e7df",
   "metadata": {
    "deletable": false,
    "nbgrader": {
     "cell_type": "code",
     "checksum": "517917722a5b809477475c14b0e27a50",
     "grade": false,
     "grade_id": "cell-8c4bdf4c8d1ca806",
     "locked": false,
     "schema_version": 3,
     "solution": true,
     "task": false
    },
    "tags": []
   },
   "outputs": [],
   "source": [
    "str_ = list('биоинформатик')\n",
    "\n",
    "perm_str = np.random.permutation(str_)\n",
    "\n",
    "perm_str = ''.join(perm_str)"
   ]
  },
  {
   "cell_type": "code",
   "execution_count": 71,
   "id": "9b3a5168-923d-4985-8d9c-7f1653afd086",
   "metadata": {
    "deletable": false,
    "editable": false,
    "nbgrader": {
     "cell_type": "code",
     "checksum": "e0b8ee16c950351158bcae9f9291d6d2",
     "grade": true,
     "grade_id": "cell-885b64fb5f179af8",
     "locked": true,
     "points": 2,
     "schema_version": 3,
     "solution": false,
     "task": false
    },
    "tags": []
   },
   "outputs": [],
   "source": [
    "assert perm_str == 'крибамофоинит'"
   ]
  },
  {
   "cell_type": "markdown",
   "id": "f70e58c3-1075-4777-bc5b-e40a77ee5b67",
   "metadata": {
    "deletable": false,
    "editable": false,
    "nbgrader": {
     "cell_type": "markdown",
     "checksum": "c2513ad5cd4b391b0dea883ecd8c22e3",
     "grade": false,
     "grade_id": "cell-d6425356d4428528",
     "locked": true,
     "schema_version": 3,
     "solution": false,
     "task": false
    },
    "tags": []
   },
   "source": [
    "### **Задание XXX**\n",
    "\n",
    "Нажмите на панели сверху `Kernel` -> `Restart Kernel and Run All Cells...`. Проверье что нет ошибок."
   ]
  },
  {
   "cell_type": "markdown",
   "id": "acd3815b-14af-44df-8d78-11f261e46325",
   "metadata": {
    "deletable": false,
    "editable": false,
    "nbgrader": {
     "cell_type": "markdown",
     "checksum": "e9ddc57eb792c49c081464a4e4fb1782",
     "grade": false,
     "grade_id": "cell-b75415a18ce0d88f",
     "locked": true,
     "schema_version": 3,
     "solution": false,
     "task": false
    },
    "tags": []
   },
   "source": [
    "---\n",
    "\n",
    "Надеюсь, у тебя всё получилось! Но в любом случае - ты молодец:)🥳\n",
    "\n",
    "---"
   ]
  }
 ],
 "metadata": {
  "kernelspec": {
   "display_name": "Python 3 (ipykernel)",
   "language": "python",
   "name": "python3"
  },
  "language_info": {
   "codemirror_mode": {
    "name": "ipython",
    "version": 3
   },
   "file_extension": ".py",
   "mimetype": "text/x-python",
   "name": "python",
   "nbconvert_exporter": "python",
   "pygments_lexer": "ipython3",
   "version": "3.9.16"
  }
 },
 "nbformat": 4,
 "nbformat_minor": 5
}
