{
 "cells": [
  {
   "cell_type": "code",
   "execution_count": 1,
   "id": "83cfca59-e8d0-4e26-8cb8-fff3efaf1b26",
   "metadata": {},
   "outputs": [],
   "source": [
    "from HW14_OOP import (User, Booking, LabEquipment,\n",
    "                      GenCodeInterpreter,\n",
    "                      meet_the_dunders\n",
    ")"
   ]
  },
  {
   "cell_type": "markdown",
   "id": "bcc5b0a5-e554-488d-a1ee-52248ccf40b6",
   "metadata": {},
   "source": [
    "# 0. Ссылка на PR части II.\n",
    "\n",
    "Приложите ниже ссылку на PR HW 14 из вашего личного репозитория (см. README)"
   ]
  },
  {
   "cell_type": "markdown",
   "id": "0f6f6550-4889-4ab5-a792-ec35aff6c79c",
   "metadata": {},
   "source": [
    "https://github.com/uzunmasha/Bioinformatics_utilities/pull/3"
   ]
  },
  {
   "cell_type": "code",
   "execution_count": null,
   "id": "20934345-d924-4eab-9df3-8119fa1769d9",
   "metadata": {},
   "outputs": [],
   "source": []
  },
  {
   "cell_type": "markdown",
   "id": "78e474fe-398e-45b2-a774-4a1175938687",
   "metadata": {},
   "source": [
    "# 1. Система бронирования оборудования\n",
    "\n",
    "Сопроводите написанную систему небольшим примером (2-3 бронирования, какое-нибудь успешное и неуспешное). "
   ]
  },
  {
   "cell_type": "code",
   "execution_count": 2,
   "id": "0fcc5753-5f1b-4d03-a9ae-8ee11456bd01",
   "metadata": {},
   "outputs": [
    {
     "name": "stdout",
     "output_type": "stream",
     "text": [
      "Successful!\n"
     ]
    }
   ],
   "source": [
    "user1 = User(\"Maria\")\n",
    "user2 = User(\"Alice\")\n",
    "\n",
    "lab = LabEquipment()\n",
    "\n",
    "# Первый случай: Maria бронирует microscope на 12.02.2024 на период с 10:00 до 12:00\n",
    "start_time = \"2024-02-12 10:00\"\n",
    "end_time = \"2024-02-12 12:00\"\n",
    "lab.book(user1, \"microscope\", start_time, end_time)"
   ]
  },
  {
   "cell_type": "code",
   "execution_count": 3,
   "id": "a84931fa-a5c4-4f66-86a7-7c1832b3b1ca",
   "metadata": {},
   "outputs": [
    {
     "ename": "MyCustomError",
     "evalue": "Error: There is no such equipment as centrifuge. Available options are ['amplificator', 'tem', 'laminar', 'microscope']",
     "output_type": "error",
     "traceback": [
      "\u001b[0;31m---------------------------------------------------------------------------\u001b[0m",
      "\u001b[0;31mMyCustomError\u001b[0m                             Traceback (most recent call last)",
      "Cell \u001b[0;32mIn[3], line 4\u001b[0m\n\u001b[1;32m      2\u001b[0m start_time \u001b[38;5;241m=\u001b[39m \u001b[38;5;124m\"\u001b[39m\u001b[38;5;124m2024-02-12 10:00\u001b[39m\u001b[38;5;124m\"\u001b[39m\n\u001b[1;32m      3\u001b[0m end_time \u001b[38;5;241m=\u001b[39m \u001b[38;5;124m\"\u001b[39m\u001b[38;5;124m2024-02-12 12:00\u001b[39m\u001b[38;5;124m\"\u001b[39m\n\u001b[0;32m----> 4\u001b[0m \u001b[43mlab\u001b[49m\u001b[38;5;241;43m.\u001b[39;49m\u001b[43mbook\u001b[49m\u001b[43m(\u001b[49m\u001b[43muser1\u001b[49m\u001b[43m,\u001b[49m\u001b[43m \u001b[49m\u001b[38;5;124;43m\"\u001b[39;49m\u001b[38;5;124;43mcentrifuge\u001b[39;49m\u001b[38;5;124;43m\"\u001b[39;49m\u001b[43m,\u001b[49m\u001b[43m \u001b[49m\u001b[43mstart_time\u001b[49m\u001b[43m,\u001b[49m\u001b[43m \u001b[49m\u001b[43mend_time\u001b[49m\u001b[43m)\u001b[49m\n",
      "File \u001b[0;32m/mnt/c/users/uzunm/pocp/python/hw14-oop-uzunmasha/HW14_OOP.py:64\u001b[0m, in \u001b[0;36mLabEquipment.book\u001b[0;34m(self, user, equipment_name, start_time, end_time)\u001b[0m\n\u001b[1;32m     61\u001b[0m start_time_dt \u001b[38;5;241m=\u001b[39m \u001b[38;5;28mself\u001b[39m\u001b[38;5;241m.\u001b[39m_parse_time(start_time)\n\u001b[1;32m     62\u001b[0m end_time_dt \u001b[38;5;241m=\u001b[39m \u001b[38;5;28mself\u001b[39m\u001b[38;5;241m.\u001b[39m_parse_time(end_time)\n\u001b[0;32m---> 64\u001b[0m \u001b[38;5;28;01mif\u001b[39;00m \u001b[38;5;28;43mself\u001b[39;49m\u001b[38;5;241;43m.\u001b[39;49m\u001b[43mis_available\u001b[49m\u001b[43m(\u001b[49m\u001b[43muser\u001b[49m\u001b[43m,\u001b[49m\u001b[43m \u001b[49m\u001b[43mequipment_name\u001b[49m\u001b[43m,\u001b[49m\u001b[43m \u001b[49m\u001b[43mstart_time\u001b[49m\u001b[43m,\u001b[49m\u001b[43m \u001b[49m\u001b[43mend_time\u001b[49m\u001b[43m)\u001b[49m:\n\u001b[1;32m     65\u001b[0m     \u001b[38;5;28mself\u001b[39m\u001b[38;5;241m.\u001b[39mbooking_history\u001b[38;5;241m.\u001b[39mappend(Booking(user, equipment_name, start_time_dt, end_time_dt))\n\u001b[1;32m     66\u001b[0m     \u001b[38;5;28mprint\u001b[39m(\u001b[38;5;124m\"\u001b[39m\u001b[38;5;124mSuccessful!\u001b[39m\u001b[38;5;124m\"\u001b[39m)\n",
      "File \u001b[0;32m/mnt/c/users/uzunm/pocp/python/hw14-oop-uzunmasha/HW14_OOP.py:47\u001b[0m, in \u001b[0;36mLabEquipment.is_available\u001b[0;34m(self, user, equipment_name, start_time, end_time)\u001b[0m\n\u001b[1;32m     45\u001b[0m \u001b[38;5;28;01mdef\u001b[39;00m \u001b[38;5;21mis_available\u001b[39m(\u001b[38;5;28mself\u001b[39m, user, equipment_name, start_time, end_time):\n\u001b[1;32m     46\u001b[0m     \u001b[38;5;28;01mif\u001b[39;00m equipment_name \u001b[38;5;129;01mnot\u001b[39;00m \u001b[38;5;129;01min\u001b[39;00m \u001b[38;5;28mself\u001b[39m\u001b[38;5;241m.\u001b[39mequipment:\n\u001b[0;32m---> 47\u001b[0m         \u001b[38;5;28;01mraise\u001b[39;00m MyCustomError(\u001b[38;5;124mf\u001b[39m\u001b[38;5;124m\"\u001b[39m\u001b[38;5;124mError: There is no such equipment as \u001b[39m\u001b[38;5;132;01m{\u001b[39;00mequipment_name\u001b[38;5;132;01m}\u001b[39;00m\u001b[38;5;124m. Available options are \u001b[39m\u001b[38;5;132;01m{\u001b[39;00m\u001b[38;5;28mself\u001b[39m\u001b[38;5;241m.\u001b[39mequipment\u001b[38;5;132;01m}\u001b[39;00m\u001b[38;5;124m\"\u001b[39m)\n\u001b[1;32m     48\u001b[0m         \u001b[38;5;28;01mreturn\u001b[39;00m \u001b[38;5;28;01mFalse\u001b[39;00m\n\u001b[1;32m     50\u001b[0m     start_time_dt \u001b[38;5;241m=\u001b[39m \u001b[38;5;28mself\u001b[39m\u001b[38;5;241m.\u001b[39m_parse_time(start_time)\n",
      "\u001b[0;31mMyCustomError\u001b[0m: Error: There is no such equipment as centrifuge. Available options are ['amplificator', 'tem', 'laminar', 'microscope']"
     ]
    }
   ],
   "source": [
    "# Второй случай: Maria бронирует centrifuge на 12.02.2024 на период с 10:00 до 12:00\n",
    "start_time = \"2024-02-12 10:00\"\n",
    "end_time = \"2024-02-12 12:00\"\n",
    "lab.book(user1, \"centrifuge\", start_time, end_time)"
   ]
  },
  {
   "cell_type": "code",
   "execution_count": 4,
   "id": "252244e2-509e-4ae8-9cc1-be2331acbb34",
   "metadata": {},
   "outputs": [
    {
     "ename": "MyCustomError",
     "evalue": "Equipment microscope is not available from 2024-02-12 10:00:00 to 2024-02-12 12:00:00. It is booked by Maria",
     "output_type": "error",
     "traceback": [
      "\u001b[0;31m---------------------------------------------------------------------------\u001b[0m",
      "\u001b[0;31mMyCustomError\u001b[0m                             Traceback (most recent call last)",
      "Cell \u001b[0;32mIn[4], line 4\u001b[0m\n\u001b[1;32m      2\u001b[0m start_time \u001b[38;5;241m=\u001b[39m \u001b[38;5;124m\"\u001b[39m\u001b[38;5;124m2024-02-12 10:00\u001b[39m\u001b[38;5;124m\"\u001b[39m\n\u001b[1;32m      3\u001b[0m end_time \u001b[38;5;241m=\u001b[39m \u001b[38;5;124m\"\u001b[39m\u001b[38;5;124m2024-02-12 12:00\u001b[39m\u001b[38;5;124m\"\u001b[39m\n\u001b[0;32m----> 4\u001b[0m \u001b[43mlab\u001b[49m\u001b[38;5;241;43m.\u001b[39;49m\u001b[43mbook\u001b[49m\u001b[43m(\u001b[49m\u001b[43muser2\u001b[49m\u001b[43m,\u001b[49m\u001b[43m \u001b[49m\u001b[38;5;124;43m\"\u001b[39;49m\u001b[38;5;124;43mmicroscope\u001b[39;49m\u001b[38;5;124;43m\"\u001b[39;49m\u001b[43m,\u001b[49m\u001b[43m \u001b[49m\u001b[43mstart_time\u001b[49m\u001b[43m,\u001b[49m\u001b[43m \u001b[49m\u001b[43mend_time\u001b[49m\u001b[43m)\u001b[49m\n",
      "File \u001b[0;32m/mnt/c/users/uzunm/pocp/python/hw14-oop-uzunmasha/HW14_OOP.py:64\u001b[0m, in \u001b[0;36mLabEquipment.book\u001b[0;34m(self, user, equipment_name, start_time, end_time)\u001b[0m\n\u001b[1;32m     61\u001b[0m start_time_dt \u001b[38;5;241m=\u001b[39m \u001b[38;5;28mself\u001b[39m\u001b[38;5;241m.\u001b[39m_parse_time(start_time)\n\u001b[1;32m     62\u001b[0m end_time_dt \u001b[38;5;241m=\u001b[39m \u001b[38;5;28mself\u001b[39m\u001b[38;5;241m.\u001b[39m_parse_time(end_time)\n\u001b[0;32m---> 64\u001b[0m \u001b[38;5;28;01mif\u001b[39;00m \u001b[38;5;28;43mself\u001b[39;49m\u001b[38;5;241;43m.\u001b[39;49m\u001b[43mis_available\u001b[49m\u001b[43m(\u001b[49m\u001b[43muser\u001b[49m\u001b[43m,\u001b[49m\u001b[43m \u001b[49m\u001b[43mequipment_name\u001b[49m\u001b[43m,\u001b[49m\u001b[43m \u001b[49m\u001b[43mstart_time\u001b[49m\u001b[43m,\u001b[49m\u001b[43m \u001b[49m\u001b[43mend_time\u001b[49m\u001b[43m)\u001b[49m:\n\u001b[1;32m     65\u001b[0m     \u001b[38;5;28mself\u001b[39m\u001b[38;5;241m.\u001b[39mbooking_history\u001b[38;5;241m.\u001b[39mappend(Booking(user, equipment_name, start_time_dt, end_time_dt))\n\u001b[1;32m     66\u001b[0m     \u001b[38;5;28mprint\u001b[39m(\u001b[38;5;124m\"\u001b[39m\u001b[38;5;124mSuccessful!\u001b[39m\u001b[38;5;124m\"\u001b[39m)\n",
      "File \u001b[0;32m/mnt/c/users/uzunm/pocp/python/hw14-oop-uzunmasha/HW14_OOP.py:55\u001b[0m, in \u001b[0;36mLabEquipment.is_available\u001b[0;34m(self, user, equipment_name, start_time, end_time)\u001b[0m\n\u001b[1;32m     51\u001b[0m end_time_dt \u001b[38;5;241m=\u001b[39m \u001b[38;5;28mself\u001b[39m\u001b[38;5;241m.\u001b[39m_parse_time(end_time)\n\u001b[1;32m     53\u001b[0m new_booking \u001b[38;5;241m=\u001b[39m Booking(user, equipment_name, start_time_dt, end_time_dt)\n\u001b[0;32m---> 55\u001b[0m \u001b[38;5;28;01mif\u001b[39;00m \u001b[43mnew_booking\u001b[49m\u001b[38;5;241;43m.\u001b[39;49m\u001b[43mis_intersect\u001b[49m\u001b[43m(\u001b[49m\u001b[38;5;28;43mself\u001b[39;49m\u001b[38;5;241;43m.\u001b[39;49m\u001b[43mbooking_history\u001b[49m\u001b[43m)\u001b[49m \u001b[38;5;129;01mor\u001b[39;00m new_booking\u001b[38;5;241m.\u001b[39mis_busy(user\u001b[38;5;241m.\u001b[39mname, \u001b[38;5;28mself\u001b[39m\u001b[38;5;241m.\u001b[39mbooking_history):\n\u001b[1;32m     56\u001b[0m     \u001b[38;5;28;01mreturn\u001b[39;00m \u001b[38;5;28;01mFalse\u001b[39;00m\n\u001b[1;32m     58\u001b[0m \u001b[38;5;28;01mreturn\u001b[39;00m \u001b[38;5;28;01mTrue\u001b[39;00m\n",
      "File \u001b[0;32m/mnt/c/users/uzunm/pocp/python/hw14-oop-uzunmasha/HW14_OOP.py:24\u001b[0m, in \u001b[0;36mBooking.is_intersect\u001b[0;34m(self, booking_history)\u001b[0m\n\u001b[1;32m     22\u001b[0m     \u001b[38;5;28;01mif\u001b[39;00m \u001b[38;5;28mself\u001b[39m\u001b[38;5;241m.\u001b[39mequipment \u001b[38;5;241m==\u001b[39m booking\u001b[38;5;241m.\u001b[39mequipment:\n\u001b[1;32m     23\u001b[0m         \u001b[38;5;28;01mif\u001b[39;00m \u001b[38;5;28mself\u001b[39m\u001b[38;5;241m.\u001b[39mstart_time \u001b[38;5;241m<\u001b[39m booking\u001b[38;5;241m.\u001b[39mend_time \u001b[38;5;129;01mand\u001b[39;00m booking\u001b[38;5;241m.\u001b[39mstart_time \u001b[38;5;241m<\u001b[39m \u001b[38;5;28mself\u001b[39m\u001b[38;5;241m.\u001b[39mend_time:\n\u001b[0;32m---> 24\u001b[0m             \u001b[38;5;28;01mraise\u001b[39;00m MyCustomError(\u001b[38;5;124mf\u001b[39m\u001b[38;5;124m\"\u001b[39m\u001b[38;5;124mEquipment \u001b[39m\u001b[38;5;132;01m{\u001b[39;00m\u001b[38;5;28mself\u001b[39m\u001b[38;5;241m.\u001b[39mequipment\u001b[38;5;132;01m}\u001b[39;00m\u001b[38;5;124m is not available from \u001b[39m\u001b[38;5;132;01m{\u001b[39;00m\u001b[38;5;28mself\u001b[39m\u001b[38;5;241m.\u001b[39mstart_time\u001b[38;5;132;01m}\u001b[39;00m\u001b[38;5;124m to \u001b[39m\u001b[38;5;132;01m{\u001b[39;00m\u001b[38;5;28mself\u001b[39m\u001b[38;5;241m.\u001b[39mend_time\u001b[38;5;132;01m}\u001b[39;00m\u001b[38;5;124m. It is booked by \u001b[39m\u001b[38;5;132;01m{\u001b[39;00mbooking\u001b[38;5;241m.\u001b[39muser\u001b[38;5;132;01m}\u001b[39;00m\u001b[38;5;124m\"\u001b[39m)\n\u001b[1;32m     25\u001b[0m             \u001b[38;5;28;01mreturn\u001b[39;00m \u001b[38;5;28;01mTrue\u001b[39;00m\n\u001b[1;32m     26\u001b[0m \u001b[38;5;28;01mreturn\u001b[39;00m \u001b[38;5;28;01mFalse\u001b[39;00m\n",
      "\u001b[0;31mMyCustomError\u001b[0m: Equipment microscope is not available from 2024-02-12 10:00:00 to 2024-02-12 12:00:00. It is booked by Maria"
     ]
    }
   ],
   "source": [
    "# Третий случай: Alice бронирует microscope на 12.02.2024 на период с 10:00 до 12:00\n",
    "start_time = \"2024-02-12 10:00\"\n",
    "end_time = \"2024-02-12 12:00\"\n",
    "lab.book(user2, \"microscope\", start_time, end_time)"
   ]
  },
  {
   "cell_type": "code",
   "execution_count": 5,
   "id": "b0dda2e1-0644-43f7-bf5a-69cdf53f73cd",
   "metadata": {},
   "outputs": [
    {
     "ename": "MyCustomError",
     "evalue": "You are busy from 2024-02-12 10:00:00 to 2024-02-12 12:00:00. You will work on microscope",
     "output_type": "error",
     "traceback": [
      "\u001b[0;31m---------------------------------------------------------------------------\u001b[0m",
      "\u001b[0;31mMyCustomError\u001b[0m                             Traceback (most recent call last)",
      "Cell \u001b[0;32mIn[5], line 4\u001b[0m\n\u001b[1;32m      2\u001b[0m start_time \u001b[38;5;241m=\u001b[39m \u001b[38;5;124m\"\u001b[39m\u001b[38;5;124m2024-02-12 10:00\u001b[39m\u001b[38;5;124m\"\u001b[39m\n\u001b[1;32m      3\u001b[0m end_time \u001b[38;5;241m=\u001b[39m \u001b[38;5;124m\"\u001b[39m\u001b[38;5;124m2024-02-12 12:00\u001b[39m\u001b[38;5;124m\"\u001b[39m\n\u001b[0;32m----> 4\u001b[0m \u001b[43mlab\u001b[49m\u001b[38;5;241;43m.\u001b[39;49m\u001b[43mbook\u001b[49m\u001b[43m(\u001b[49m\u001b[43muser1\u001b[49m\u001b[43m,\u001b[49m\u001b[43m \u001b[49m\u001b[38;5;124;43m\"\u001b[39;49m\u001b[38;5;124;43mtem\u001b[39;49m\u001b[38;5;124;43m\"\u001b[39;49m\u001b[43m,\u001b[49m\u001b[43m \u001b[49m\u001b[43mstart_time\u001b[49m\u001b[43m,\u001b[49m\u001b[43m \u001b[49m\u001b[43mend_time\u001b[49m\u001b[43m)\u001b[49m\n",
      "File \u001b[0;32m/mnt/c/users/uzunm/pocp/python/hw14-oop-uzunmasha/HW14_OOP.py:64\u001b[0m, in \u001b[0;36mLabEquipment.book\u001b[0;34m(self, user, equipment_name, start_time, end_time)\u001b[0m\n\u001b[1;32m     61\u001b[0m start_time_dt \u001b[38;5;241m=\u001b[39m \u001b[38;5;28mself\u001b[39m\u001b[38;5;241m.\u001b[39m_parse_time(start_time)\n\u001b[1;32m     62\u001b[0m end_time_dt \u001b[38;5;241m=\u001b[39m \u001b[38;5;28mself\u001b[39m\u001b[38;5;241m.\u001b[39m_parse_time(end_time)\n\u001b[0;32m---> 64\u001b[0m \u001b[38;5;28;01mif\u001b[39;00m \u001b[38;5;28;43mself\u001b[39;49m\u001b[38;5;241;43m.\u001b[39;49m\u001b[43mis_available\u001b[49m\u001b[43m(\u001b[49m\u001b[43muser\u001b[49m\u001b[43m,\u001b[49m\u001b[43m \u001b[49m\u001b[43mequipment_name\u001b[49m\u001b[43m,\u001b[49m\u001b[43m \u001b[49m\u001b[43mstart_time\u001b[49m\u001b[43m,\u001b[49m\u001b[43m \u001b[49m\u001b[43mend_time\u001b[49m\u001b[43m)\u001b[49m:\n\u001b[1;32m     65\u001b[0m     \u001b[38;5;28mself\u001b[39m\u001b[38;5;241m.\u001b[39mbooking_history\u001b[38;5;241m.\u001b[39mappend(Booking(user, equipment_name, start_time_dt, end_time_dt))\n\u001b[1;32m     66\u001b[0m     \u001b[38;5;28mprint\u001b[39m(\u001b[38;5;124m\"\u001b[39m\u001b[38;5;124mSuccessful!\u001b[39m\u001b[38;5;124m\"\u001b[39m)\n",
      "File \u001b[0;32m/mnt/c/users/uzunm/pocp/python/hw14-oop-uzunmasha/HW14_OOP.py:55\u001b[0m, in \u001b[0;36mLabEquipment.is_available\u001b[0;34m(self, user, equipment_name, start_time, end_time)\u001b[0m\n\u001b[1;32m     51\u001b[0m end_time_dt \u001b[38;5;241m=\u001b[39m \u001b[38;5;28mself\u001b[39m\u001b[38;5;241m.\u001b[39m_parse_time(end_time)\n\u001b[1;32m     53\u001b[0m new_booking \u001b[38;5;241m=\u001b[39m Booking(user, equipment_name, start_time_dt, end_time_dt)\n\u001b[0;32m---> 55\u001b[0m \u001b[38;5;28;01mif\u001b[39;00m new_booking\u001b[38;5;241m.\u001b[39mis_intersect(\u001b[38;5;28mself\u001b[39m\u001b[38;5;241m.\u001b[39mbooking_history) \u001b[38;5;129;01mor\u001b[39;00m \u001b[43mnew_booking\u001b[49m\u001b[38;5;241;43m.\u001b[39;49m\u001b[43mis_busy\u001b[49m\u001b[43m(\u001b[49m\u001b[43muser\u001b[49m\u001b[38;5;241;43m.\u001b[39;49m\u001b[43mname\u001b[49m\u001b[43m,\u001b[49m\u001b[43m \u001b[49m\u001b[38;5;28;43mself\u001b[39;49m\u001b[38;5;241;43m.\u001b[39;49m\u001b[43mbooking_history\u001b[49m\u001b[43m)\u001b[49m:\n\u001b[1;32m     56\u001b[0m     \u001b[38;5;28;01mreturn\u001b[39;00m \u001b[38;5;28;01mFalse\u001b[39;00m\n\u001b[1;32m     58\u001b[0m \u001b[38;5;28;01mreturn\u001b[39;00m \u001b[38;5;28;01mTrue\u001b[39;00m\n",
      "File \u001b[0;32m/mnt/c/users/uzunm/pocp/python/hw14-oop-uzunmasha/HW14_OOP.py:32\u001b[0m, in \u001b[0;36mBooking.is_busy\u001b[0;34m(self, user_name, booking_history)\u001b[0m\n\u001b[1;32m     30\u001b[0m     \u001b[38;5;28;01mif\u001b[39;00m \u001b[38;5;28mself\u001b[39m\u001b[38;5;241m.\u001b[39muser \u001b[38;5;241m==\u001b[39m user_name:\n\u001b[1;32m     31\u001b[0m         \u001b[38;5;28;01mif\u001b[39;00m \u001b[38;5;28mself\u001b[39m\u001b[38;5;241m.\u001b[39mstart_time \u001b[38;5;241m<\u001b[39m booking\u001b[38;5;241m.\u001b[39mend_time \u001b[38;5;129;01mand\u001b[39;00m booking\u001b[38;5;241m.\u001b[39mstart_time \u001b[38;5;241m<\u001b[39m \u001b[38;5;28mself\u001b[39m\u001b[38;5;241m.\u001b[39mend_time:\n\u001b[0;32m---> 32\u001b[0m             \u001b[38;5;28;01mraise\u001b[39;00m MyCustomError(\u001b[38;5;124mf\u001b[39m\u001b[38;5;124m\"\u001b[39m\u001b[38;5;124mYou are busy from \u001b[39m\u001b[38;5;132;01m{\u001b[39;00m\u001b[38;5;28mself\u001b[39m\u001b[38;5;241m.\u001b[39mstart_time\u001b[38;5;132;01m}\u001b[39;00m\u001b[38;5;124m to \u001b[39m\u001b[38;5;132;01m{\u001b[39;00m\u001b[38;5;28mself\u001b[39m\u001b[38;5;241m.\u001b[39mend_time\u001b[38;5;132;01m}\u001b[39;00m\u001b[38;5;124m. You will work on \u001b[39m\u001b[38;5;132;01m{\u001b[39;00mbooking\u001b[38;5;241m.\u001b[39mequipment\u001b[38;5;132;01m}\u001b[39;00m\u001b[38;5;124m\"\u001b[39m)\n\u001b[1;32m     33\u001b[0m             \u001b[38;5;28;01mreturn\u001b[39;00m \u001b[38;5;28;01mTrue\u001b[39;00m\n\u001b[1;32m     34\u001b[0m \u001b[38;5;28;01mreturn\u001b[39;00m \u001b[38;5;28;01mFalse\u001b[39;00m\n",
      "\u001b[0;31mMyCustomError\u001b[0m: You are busy from 2024-02-12 10:00:00 to 2024-02-12 12:00:00. You will work on microscope"
     ]
    }
   ],
   "source": [
    "# Четвертый случай - Мария бронирует tem на 12.02.2024 на период с 10:00 до 12:00\n",
    "start_time = \"2024-02-12 10:00\"\n",
    "end_time = \"2024-02-12 12:00\"\n",
    "lab.book(user1, \"tem\", start_time, end_time)"
   ]
  },
  {
   "cell_type": "markdown",
   "id": "d5713c0c-56ab-4828-b933-97e384969578",
   "metadata": {},
   "source": [
    "# 2. Интерпретатор генетического кода\n",
    "\n",
    "Здесь вы можете продемонстрировать как работает ваш интерпретатор генетического кода. Не забудьте в последнем примере подобрать такой набор нуклеотидов чтобы напечаталась ваша фамилия."
   ]
  },
  {
   "cell_type": "code",
   "execution_count": 6,
   "id": "e46decf5-9b47-45c8-a48e-d55c0cd69986",
   "metadata": {},
   "outputs": [
    {
     "data": {
      "text/plain": [
       "'\\x00'"
      ]
     },
     "execution_count": 6,
     "metadata": {},
     "output_type": "execute_result"
    }
   ],
   "source": [
    "interpreter = GenCodeInterpreter()\n",
    "interpreter.eval('ATGCN')"
   ]
  },
  {
   "cell_type": "code",
   "execution_count": 7,
   "id": "26989e46-af35-499b-a152-20f3f7f89734",
   "metadata": {},
   "outputs": [
    {
     "data": {
      "text/plain": [
       "'Hi!'"
      ]
     },
     "execution_count": 7,
     "metadata": {},
     "output_type": "execute_result"
    }
   ],
   "source": [
    "interpreter = GenCodeInterpreter()\n",
    "code = 'G'*72 + 'N' + 'G'*33 + 'N' + 'C'*72 + 'N'\n",
    "interpreter.eval(code)"
   ]
  },
  {
   "cell_type": "code",
   "execution_count": 8,
   "id": "ecf4280a-0fa3-46e8-88ba-519834a7f95d",
   "metadata": {},
   "outputs": [
    {
     "data": {
      "text/plain": [
       "'Узун'"
      ]
     },
     "execution_count": 8,
     "metadata": {},
     "output_type": "execute_result"
    }
   ],
   "source": [
    "interpreter = GenCodeInterpreter()\n",
    "#code = 'G'*85 + 'N' + 'A' + 'G'*122 + 'N' + 'A' + 'G'*117 + 'N' + 'T' + 'C'*12 + 'N' # prints 'Uzun'\n",
    "code = 'G' * 1059 + 'N' + 'A' + 'G'*1079 + 'N' + 'A' + 'G'*1091 + 'N' + 'T' + 'G'*6 + 'N'  \n",
    "interpreter.eval(code)"
   ]
  },
  {
   "cell_type": "markdown",
   "id": "4fc75494-33c3-48f5-b2b1-adeaeb2dee75",
   "metadata": {},
   "source": [
    "# 3. Meet the dunders\n",
    "\n",
    "Проверьте что функция не сломалась"
   ]
  },
  {
   "cell_type": "code",
   "execution_count": 9,
   "id": "a594a672-7138-4301-a4df-d50cc000b032",
   "metadata": {},
   "outputs": [],
   "source": [
    "assert meet_the_dunders() == 42"
   ]
  },
  {
   "cell_type": "markdown",
   "id": "0b37b58a-dbc7-4dd8-a7aa-c2e0bb1d18ac",
   "metadata": {},
   "source": [
    "# 5. Biological sequences world\n",
    "\n",
    "Приведите пример:\n",
    "- 1 метод который работает с РНК\n",
    "- 1 метод который работает с белками\n",
    "- Какой тип данных возвращает метод `complement` который вызвали на последовательности ДНК"
   ]
  },
  {
   "cell_type": "code",
   "execution_count": 10,
   "id": "767da1e6-76d7-4853-b274-deb21893ce22",
   "metadata": {},
   "outputs": [
    {
     "name": "stdout",
     "output_type": "stream",
     "text": [
      "  % Total    % Received % Xferd  Average Speed   Time    Time     Time  Current\n",
      "                                 Dload  Upload   Total   Spent    Left  Speed\n",
      "100  5785  100  5785    0     0  26123      0 --:--:-- --:--:-- --:--:-- 26295\n",
      "Reverse RNA Sequence: CGUA\n",
      "Amino Acid Profile: {'hydrophobic': 1.0, 'polar': 0.0, '- charged': 0.0, '+ charged': 0.0}\n"
     ]
    }
   ],
   "source": [
    "!curl -O https://raw.githubusercontent.com/uzunmasha/Bioinformatics_utilities/HW14_Uzun/bioseq.py\n",
    "\n",
    "from bioseq import RNASequence, AminoAcidSequence\n",
    "\n",
    "# Создание экземпляра класса RNASequence\n",
    "rna_sequence = RNASequence(\"AUGC\")\n",
    "# Вызов метода reverse для получения обратной РНК-последовательности\n",
    "reverse_rna = rna_sequence.reverse()\n",
    "print(\"Reverse RNA Sequence:\", reverse_rna)\n",
    "\n",
    "# Создание экземпляра класса AminoAcidSequence\n",
    "amino_acid_sequence = AminoAcidSequence(\"GAVLI\")\n",
    "# Вызов метода amino_acid_profile для получения профиля аминокислотной последовательности\n",
    "profile = amino_acid_sequence.amino_acid_profile()\n",
    "print(\"Amino Acid Profile:\", profile)"
   ]
  },
  {
   "cell_type": "code",
   "execution_count": null,
   "id": "52ebfd2f-7c2d-4bf3-b75c-e44ce2445ff8",
   "metadata": {},
   "outputs": [],
   "source": []
  }
 ],
 "metadata": {
  "kernelspec": {
   "display_name": "Python 3 (ipykernel)",
   "language": "python",
   "name": "python3"
  },
  "language_info": {
   "codemirror_mode": {
    "name": "ipython",
    "version": 3
   },
   "file_extension": ".py",
   "mimetype": "text/x-python",
   "name": "python",
   "nbconvert_exporter": "python",
   "pygments_lexer": "ipython3",
   "version": "3.10.12"
  }
 },
 "nbformat": 4,
 "nbformat_minor": 5
}
