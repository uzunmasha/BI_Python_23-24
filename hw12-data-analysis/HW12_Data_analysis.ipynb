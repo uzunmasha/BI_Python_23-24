{
 "cells": [
  {
   "cell_type": "markdown",
   "id": "2c93b4c0-bc13-43a2-b1f1-8d7e58668428",
   "metadata": {
    "deletable": false,
    "editable": false,
    "nbgrader": {
     "cell_type": "markdown",
     "checksum": "6443c14dc0ed3436aa63b4529271d39f",
     "grade": false,
     "grade_id": "cell-cbd47f11274d3d92",
     "locked": true,
     "schema_version": 3,
     "solution": false,
     "task": false
    },
    "tags": []
   },
   "source": [
    "# <center>  Python for biologists\n",
    "    \n",
    "## Homework 12, Data analysis\n",
    "\n",
    "\n",
    "\n",
    "### Правила\n",
    "\n",
    "- Не создавайте доп. веток в репозитории, не копируйте ноутбук.\n",
    "- Пишите код только там, где это от вас требуется (`# YOUR CODE HERE`)\n",
    "- Используйте разобранный нами функционал, решения через циклы, `Counter` и т.п. засчитываться не будут.\n",
    "- Перед отправкой проверьте что ваш ноутбук работает (юпитер-ноутбук). Нажмите на панели сверху `Kernel` -> `Restart Kernel and Run All Cells...`. Проверье что нет ошибок.\n",
    "    \n",
    "\n",
    "#### Погнали!\n",
    "\n",
    "---\n"
   ]
  },
  {
   "cell_type": "code",
   "execution_count": 1,
   "id": "a1838cb9-6a11-4e60-9aab-5fbd10a56eae",
   "metadata": {
    "tags": []
   },
   "outputs": [],
   "source": [
    "import numpy as np\n",
    "import pandas as pd\n",
    "import matplotlib.pyplot as plt\n",
    "import seaborn as sns\n",
    "import pingouin as pg\n",
    "\n",
    "from IPython.display import display\n",
    "\n",
    "# здесь любые импорты которые вам еще понадобятся (только здесь)"
   ]
  },
  {
   "cell_type": "markdown",
   "id": "25f6ed01-7325-4e7b-a7c0-3ced64223778",
   "metadata": {
    "deletable": false,
    "editable": false,
    "nbgrader": {
     "cell_type": "markdown",
     "checksum": "9b82e61eab3d90ecc64fac372c9dabe7",
     "grade": false,
     "grade_id": "cell-3c2e2ca861e7cec4",
     "locked": true,
     "schema_version": 3,
     "solution": false,
     "task": false
    },
    "tags": []
   },
   "source": [
    "# Продвинутая работа с одним дата-фреймом  </br> на примере биомедицинских данных\n",
    "\n",
    "Мы будем работать с фармакокинетическим Варифариновым датасетом `warfarin.csv` (конкретный пример взят [отсюда](https://insightrx.github.io/PKPDsim/reference/pkdata.html?q=pkdata), но почитать можно [тут](https://dataset.lixoft.com/data-set-examples/warfarin-data-set/) и [тут](https://ascpt.onlinelibrary.wiley.com/doi/10.1038/clpt.2010.37/)). \n",
    "\n",
    "Датасет содержит следующие колонки:\n",
    "- `ID` - Идентификатор пациента\n",
    "- `Time` - Время внесения записи\n",
    "- `WT` - Вес пациента\n",
    "- `AGE` - Возраст пациента\n",
    "- `SEX` - Пол пациента\n",
    "- `CRCL` - Клиренс креатинина пациента (показатель работоспособности почек)\n",
    "- `EVID` - Event ID - флаг который обозначает тип события: 1 - администрирование (введение) дозы варфарина, 0 - запись концентрации варфарина в крови\n",
    "- `AMT` - Amount, Доза варфарина которая была дана пациенту\n",
    "- `DV` - Зависимая переменная в анализе, концентрация варфарина в крови\n",
    "\n",
    "Соотвественно про данные история такая, что не может быть одновременной записи DV и AMT. Мы либо даем дозу, либо измеряем концентрацию - не одновременно. Это и обозначает флаг EVID.  Поэтому если в DV стоит 0 - это не значит что концентрация 0, скорее всего эта запись отмечена флагом EVID 1, то мы и не знаем концентрацию, мы её не измеряли. \n",
    "\n",
    "\n"
   ]
  },
  {
   "cell_type": "code",
   "execution_count": 2,
   "id": "09e1ed37-79fe-4017-b4c2-0c9518c78bc2",
   "metadata": {
    "tags": []
   },
   "outputs": [],
   "source": [
    "warfarin = pd.read_csv('data/warfarin.csv', sep='\\t')"
   ]
  },
  {
   "cell_type": "markdown",
   "id": "bf1bcd5d-3b31-42bd-9931-71811dcfbb87",
   "metadata": {
    "deletable": false,
    "editable": false,
    "nbgrader": {
     "cell_type": "markdown",
     "checksum": "86ea5cec92f16d8dae92eadb90a3ace8",
     "grade": false,
     "grade_id": "cell-3566710e2b42d6c6",
     "locked": true,
     "schema_version": 3,
     "solution": false,
     "task": false
    },
    "tags": []
   },
   "source": [
    "### Задание 1 📈 \n",
    "\n",
    "Сколько в среднем имеется записей на пациента? \n",
    "\n",
    "\n",
    "*(0.5 балла)*"
   ]
  },
  {
   "cell_type": "code",
   "execution_count": 3,
   "id": "30242f14-3e0b-4217-9f51-7283e235f059",
   "metadata": {
    "deletable": false,
    "nbgrader": {
     "cell_type": "code",
     "checksum": "00a8a27e3fffb2295a5a8a43581e8baa",
     "grade": false,
     "grade_id": "cell-6f5fe9c04f6aa64c",
     "locked": false,
     "schema_version": 3,
     "solution": true,
     "task": false
    },
    "tags": []
   },
   "outputs": [],
   "source": [
    "result = warfarin.ID.count()/warfarin.ID.nunique()"
   ]
  },
  {
   "cell_type": "code",
   "execution_count": 4,
   "id": "b4d00fa6-8b4b-4576-a5d0-ddd2cc7685a1",
   "metadata": {
    "deletable": false,
    "editable": false,
    "nbgrader": {
     "cell_type": "code",
     "checksum": "6b1dc732d56c493ace1e8943baf16717",
     "grade": true,
     "grade_id": "cell-c4f593da078a6398",
     "locked": true,
     "points": 5,
     "schema_version": 3,
     "solution": false,
     "task": false
    },
    "tags": []
   },
   "outputs": [],
   "source": [
    "assert result == 13.0"
   ]
  },
  {
   "cell_type": "markdown",
   "id": "98d06848-fb5d-4996-956c-609445f41b48",
   "metadata": {
    "deletable": false,
    "editable": false,
    "nbgrader": {
     "cell_type": "markdown",
     "checksum": "213cb8ea6d66102ce5a8cf58342d12f5",
     "grade": false,
     "grade_id": "cell-8bbbc2ef32020fc1",
     "locked": true,
     "schema_version": 3,
     "solution": false,
     "task": false
    },
    "tags": []
   },
   "source": [
    "### Задание 2 📈 \n",
    "\n",
    "Выведите средний возраст всех пациентов. \n",
    "\n",
    "\n",
    "*(0.5 балла)*"
   ]
  },
  {
   "cell_type": "code",
   "execution_count": 5,
   "id": "058389ba-cc67-4ad9-98be-3f70e356afe5",
   "metadata": {
    "deletable": false,
    "nbgrader": {
     "cell_type": "code",
     "checksum": "7de6e174e21179486fb2c4dc0cb70d30",
     "grade": false,
     "grade_id": "cell-ce0eb3dfad2d51e0",
     "locked": false,
     "schema_version": 3,
     "solution": true,
     "task": false
    },
    "tags": []
   },
   "outputs": [],
   "source": [
    "result = result = warfarin.AGE.mean()"
   ]
  },
  {
   "cell_type": "code",
   "execution_count": 6,
   "id": "675ba0f4-fa59-44e6-a04c-6cb1b681cc41",
   "metadata": {
    "deletable": false,
    "editable": false,
    "nbgrader": {
     "cell_type": "code",
     "checksum": "56d34f439d7d1d38427c0420a0493bfa",
     "grade": true,
     "grade_id": "cell-eb37d95aff8119f5",
     "locked": true,
     "points": 5,
     "schema_version": 3,
     "solution": false,
     "task": false
    },
    "tags": []
   },
   "outputs": [],
   "source": [
    "assert np.isclose(result, 53.0883, atol=1e-3)"
   ]
  },
  {
   "cell_type": "markdown",
   "id": "5c9a8fe5-57c5-40f2-afa9-54186fb8d2ce",
   "metadata": {
    "deletable": false,
    "editable": false,
    "nbgrader": {
     "cell_type": "markdown",
     "checksum": "6380c518dfa1e7dacb8daa944e7b225d",
     "grade": false,
     "grade_id": "cell-919af5ebb07ef645",
     "locked": true,
     "schema_version": 3,
     "solution": false,
     "task": false
    },
    "tags": []
   },
   "source": [
    "### Задание 3 📈 \n",
    "\n",
    "Выведите в виде списка имена колонок, где у каждого пациента значения не меняются\n",
    "\n",
    "\n",
    "*(0.5 балла)*"
   ]
  },
  {
   "cell_type": "code",
   "execution_count": 7,
   "id": "c99d02fd-ff19-456a-a064-a3f85f4865cd",
   "metadata": {
    "deletable": false,
    "nbgrader": {
     "cell_type": "code",
     "checksum": "c6bb50c3e1ba06ac94b535992519ef5f",
     "grade": false,
     "grade_id": "cell-e0569e8231c29692",
     "locked": false,
     "schema_version": 3,
     "solution": true,
     "task": false
    },
    "tags": []
   },
   "outputs": [
    {
     "name": "stdout",
     "output_type": "stream",
     "text": [
      "['WT', 'CRCL', 'AGE', 'SEX']\n"
     ]
    }
   ],
   "source": [
    "result = result = []\n",
    "for column in warfarin.columns:\n",
    "    if column == 'ID':\n",
    "        continue\n",
    "    \n",
    "    is_unique_for_all_IDs = True\n",
    "\n",
    "    for ID in warfarin['ID'].unique():\n",
    "        if warfarin[warfarin['ID'] == ID][column].nunique() != 1:\n",
    "            is_unique_for_all_IDs = False\n",
    "            break\n",
    "\n",
    "    if is_unique_for_all_IDs:\n",
    "        result.append(column)\n",
    "\n",
    "print(result)"
   ]
  },
  {
   "cell_type": "code",
   "execution_count": 8,
   "id": "4214f96c-4ea8-44f2-b457-e8bcca1530c2",
   "metadata": {
    "deletable": false,
    "editable": false,
    "nbgrader": {
     "cell_type": "code",
     "checksum": "69c95c7c64493508a7792775d9711641",
     "grade": true,
     "grade_id": "cell-101db6ab751404e7",
     "locked": true,
     "points": 5,
     "schema_version": 3,
     "solution": false,
     "task": false
    },
    "tags": []
   },
   "outputs": [],
   "source": [
    "assert result == ['WT', 'CRCL', 'AGE', 'SEX']"
   ]
  },
  {
   "cell_type": "markdown",
   "id": "bfe0ab00-c674-4808-bc08-cb79ef4ca218",
   "metadata": {
    "deletable": false,
    "editable": false,
    "nbgrader": {
     "cell_type": "markdown",
     "checksum": "5f70fa392a1e00c15ffd91da0639bbad",
     "grade": false,
     "grade_id": "cell-798c5f0e86a4836e",
     "locked": true,
     "schema_version": 3,
     "solution": false,
     "task": false
    },
    "tags": []
   },
   "source": [
    "### Задание 4 📈 \n",
    "\n",
    "Постройте [Spaghetti plot](https://en.wikipedia.org/wiki/Spaghetti_plot) DV vs TIME по каждому ID, отметьте вертикальными линиями моменты времени когда вводилась доза. Референсный график приеден в файле `spaghetti_plot.png`.  Обратите внимание, что на референсе `DV` не \"проваливается\" до 0. Почему?\n",
    "\n",
    "Легенду по цветами выводить не надо :)\n",
    "\n",
    "*(1.5 балла)*"
   ]
  },
  {
   "cell_type": "code",
   "execution_count": 9,
   "id": "c242ba30-f855-4ce2-b8a5-755745bf69dc",
   "metadata": {
    "deletable": false,
    "nbgrader": {
     "cell_type": "code",
     "checksum": "5b37bf87560aa88137c7407a7004d355",
     "grade": true,
     "grade_id": "cell-3b61cbd9c6903d26",
     "locked": false,
     "points": 15,
     "schema_version": 3,
     "solution": true,
     "task": false
    },
    "tags": []
   },
   "outputs": [
    {
     "data": {
      "image/png": "[encoded data removed]",
      "text/plain": [
       "<Figure size 640x480 with 1 Axes>"
      ]
     },
     "metadata": {},
     "output_type": "display_data"
    }
   ],
   "source": [
    "warfarin = warfarin[(warfarin['TIME'] != 0) & (warfarin['DV'] != 0)]\n",
    "plt.style.use('default')\n",
    "palette = plt.get_cmap('gist_rainbow_r')\n",
    "num = 0\n",
    "for ID, group in warfarin.groupby('ID'):\n",
    "    num += 1\n",
    "    plt.plot(group['TIME'], group['DV'], marker='', color=palette(num), linewidth=1, alpha=0.9)\n",
    "plt.axvline(x=0, color='black', linestyle='dashed', linewidth=1)\n",
    "plt.axvline(x=24, color='black', linestyle='dashed', linewidth=1)\n",
    "\n",
    "plt.title(\"Spaghetti Plot DV vs TIME by ID\", loc='center', fontsize=12, fontweight=0, color='black')\n",
    "plt.xlabel(\"TIME\")\n",
    "plt.ylabel(\"DV\")\n",
    "plt.yticks(np.arange(0, plt.ylim()[1], 0.25))\n",
    "\n",
    "plt.show()"
   ]
  },
  {
   "cell_type": "markdown",
   "id": "88cc425c-c5d4-4145-be9a-1651cc52bd89",
   "metadata": {
    "deletable": false,
    "editable": false,
    "nbgrader": {
     "cell_type": "markdown",
     "checksum": "a13c596e41aee7e49485167121950176",
     "grade": false,
     "grade_id": "cell-a407499f199c8aea",
     "locked": true,
     "schema_version": 3,
     "solution": false,
     "task": false
    },
    "tags": []
   },
   "source": [
    "> Ну а далее ученые-фармакометрики строят по этим графикам математические модели (нелинейные) чтобы уметь описывать фармакокинетический профиль концентрации лекарства в крови, учитывать влияние пола / веса / генотипа / ... человека, и в конце-концов, предсказывать ту самую оптимальную дозу для конкретного пациента. Таргетная терапия! Но это уже совсем другая история."
   ]
  },
  {
   "cell_type": "markdown",
   "id": "9cf08558-6680-4e1d-bb5e-57a8b62e26ae",
   "metadata": {
    "deletable": false,
    "editable": false,
    "nbgrader": {
     "cell_type": "markdown",
     "checksum": "7ec0dc30e3ffd00ee6a09525aa0293c9",
     "grade": false,
     "grade_id": "cell-1e17f64fe7d7c4d1",
     "locked": true,
     "schema_version": 3,
     "solution": false,
     "task": false
    },
    "tags": []
   },
   "source": [
    "# Продвинутая работа с несколькими дата-фреймами  </br> на примере биоинформатических данных\n",
    "\n",
    "Мы будем работать со следующими омиксными данными:\n",
    "- RNA-seq малых РНК из нейронов здорового человека и пациента с некоторым нейродегенеративным заболеванием\n",
    "- ChIP-seq'и за белки 'CTCF' и 'SMC3' (они в том числе отвечают за структуру хроматина и экспрессию генов)\n",
    "\n"
   ]
  },
  {
   "cell_type": "markdown",
   "id": "629e5584-e587-4149-b57f-ee515f9d35f4",
   "metadata": {
    "deletable": false,
    "editable": false,
    "nbgrader": {
     "cell_type": "markdown",
     "checksum": "47e064b342b014920f07d9ebce7ec09f",
     "grade": false,
     "grade_id": "cell-88c5c3b73a941844",
     "locked": true,
     "schema_version": 3,
     "solution": false,
     "task": false
    },
    "tags": []
   },
   "source": [
    "### Задание 6 📈 Подготовка данных\n",
    "\n",
    "\n",
    "##### 1) Прочитайте данные в 3 датафрема `ctcf`, `smc3` и `rnaseq`. Для этого вам понадобится:\n",
    "- Понять названия колонок (про форматы данных можно почитать [тут](https://genome.ucsc.edu/FAQ/FAQformat.html))\n",
    "- Понять как прочитать BigWig данные (они бинарные). Существует библиотека `pyBigWig`, но она хранит датасеты в очень странном фармате, в данной домашке ЗАПРЕЩАЕТСЯ её использовать. Сконвертируйте в коммандной строке BigWig в bedGraph и читайте bedGraph в pandas-dataframe.\n",
    "- Прочитав два дата-фрейма для РНК-сека вам нужно объединить их в один дата-фрейм добавив колонку обозначающую тип образца\n",
    "\n",
    "\n",
    "\n",
    "##### 2) Создайте датафрейм с аннотацией генома человека версии GRCh38.p13. Для этого вам понадобится:\n",
    "- Найти эту аннотацию. Я советую формат `gff3`.\n",
    "- Файл будет очень большой, советую предобработать его в командной строке:\n",
    "    - Отобрать только нужные колонки\n",
    "    - Отобрать только записи соответвующие генам\n",
    "    - (Если компьютер слабый) отобрать только записи соответствующие 15 хромосоме.\n",
    "- Прочитать это дело в pandas-data frame\n",
    "- Имя гена находится в последней колонке gff3, где много полей аггрегированы через `;`. Вам нужно:\n",
    "    - Найти как называется нужное поле, где лежит имя гена.\n",
    "    - Достать имя гена в отдельную колонку (например `gene` или `gene_name`). </br>\n",
    "    Достать имя гена может быть не очень тривиально. Можно сделать это в баше, можно сделать это в питоне. Тут на ваше усмотрение. В питоне по-сути у вас есть колонка с кучей информации в виде строки откуда вам нужно что-то достать. Ровно для этого мы и разобрали [ацессор `str`](https://pandas.pydata.org/pandas-docs/stable/user_guide/text.html)! Могу предложить 2 пути:\n",
    "        - (Попродвинутее)  Используйте `str.replace` с параметром `regex=True`. Не зря же мы учили регексы!\n",
    "        - (Попроще) Используйте `str.split` чтобы отрезать ненужное и вырезать нужное\n",
    "        \n",
    "        \n",
    "##### 3) Во всех датафреймах оставьте только нужные колонки\n",
    "    Это колонки с хромосомой, координатами начала и конца, цепью +/-, значением сигнала (для ChIP-seq и RNA-seq) и именем гена (для аннотации)\n",
    "\n",
    "\n",
    "> Да, обрабатывать готовые данные в питоне легко, но перед любым анализом всегда есть мучительный процесс поиска и подготовки.  Ведь реальный анализ всегда начинается с этого. Теперь вы будете во всеоружии!:)\n",
    "\n",
    "*(1.5 балла)*"
   ]
  },
  {
   "cell_type": "code",
   "execution_count": 10,
   "id": "81e253a0-90a5-4b82-8283-6c8bbc084a71",
   "metadata": {
    "deletable": false,
    "nbgrader": {
     "cell_type": "code",
     "checksum": "6ce32f7cc58a00691d3d2895b1cff365",
     "grade": true,
     "grade_id": "cell-685ff84d6e4843ab",
     "locked": false,
     "points": 15,
     "schema_version": 3,
     "solution": true,
     "task": false
    },
    "tags": []
   },
   "outputs": [],
   "source": [
    "#for narrow_peak data\n",
    "column_names = ['chrom', 'chromStart', 'chromEnd', 'name', 'score', 'strand', 'signalValue', 'pValue', 'qValue', 'peak'] #from https://genome.ucsc.edu/goldenPath/help/bigNarrowPeak.html\n",
    "ctcf = pd.read_csv('data/CTCF_neurons.bigNarrowPeak', sep='\\t', header=None, index_col=False, names=column_names)\n",
    "smc3 = pd.read_csv('data/SMC3_neurons.bigNarrowPeak', sep='\\t', header=None, index_col=False, names=column_names)\n",
    "\n",
    "#for RNAseq data\n",
    "column_names_rnaseq = ['chrom', 'chromStart', 'chromEnd', 'dataValue'] # from https://genome.ucsc.edu/goldenPath/help/bedgraph.html\n",
    "SmallRNAseq_desease = pd.read_csv('data/SmallRNAseq_desease.bedGraph', sep='\\t', header=None, names=column_names_rnaseq)\n",
    "SmallRNAseq_health = pd.read_csv('data/SmallRNAseq_health.bedGraph', sep='\\t', header=None, names=column_names_rnaseq)\n",
    "#add health/desease factor column and concatenate tables\n",
    "SmallRNAseq_desease['sampleType'] = 'desease'\n",
    "SmallRNAseq_health['sampleType'] = 'health'\n",
    "rnaseq = pd.concat([SmallRNAseq_desease, SmallRNAseq_health])\n",
    "\n",
    "#download hunam genome annotation from https://www.gencodegenes.org/human/release_38.html in gff3 format\n",
    "#zcat gencode.v38.annotation.gff3.gz | cut -f 1,4,5,9 > selected_columns.txt\n",
    "genome_column_names = ['seqid', 'start', 'end', 'strand', 'attributes']\n",
    "\n",
    "genes = pd.read_csv('data/selected_columns.txt', delimiter='\\t', header=None, index_col=False, names=genome_column_names)[7:]\n",
    "genes['gene_name'] = genes['attributes'].str.replace(r'^.*gene_name=([^;]+).*$', r'\\1', regex=True)\n",
    "genes = genes.drop('attributes', axis=1)\n",
    "\n",
    "#select columns in narrow_peak data\n",
    "columns_to_drop = ['name', 'score', 'pValue', 'qValue']\n",
    "\n",
    "ctcf = ctcf.drop(columns_to_drop, axis=1)\n",
    "smc3 = smc3.drop(columns_to_drop, axis=1)"
   ]
  },
  {
   "cell_type": "markdown",
   "id": "0a5884dd-fa55-47d2-8d5b-e62ec89572ee",
   "metadata": {
    "deletable": false,
    "editable": false,
    "nbgrader": {
     "cell_type": "markdown",
     "checksum": "cfdc4aae0dd9e9dd9933c4417301c47d",
     "grade": false,
     "grade_id": "cell-8baffbee1cfaed29",
     "locked": true,
     "schema_version": 3,
     "solution": false,
     "task": false
    },
    "tags": []
   },
   "source": [
    "### Задание 7 📈 Аннотация\n",
    "\n",
    "1) Возьмите данные ChIP-seq и аннотацию. Для экономии ресурсов отберите только 15 хромосому.\n",
    "2) Смерджте дата-фреймы ChIP-seq так чтобы получить набор только пересекающихся пиков\n",
    "3) Обработайте смердженный датафрейм: \n",
    "    - Создайте колонки `start` и `stop` которые будут отмечать координаты объединения двух пиков (то есть самое левое начало и самый правый конец)\n",
    "    - Отберите топ 100 записей по суммарной интенсивности сигналов CTCF и SMC3 \n",
    "    - Отберите только нужные колонки: хромосома, `start` и `stop`, интенсивности сигналов\n",
    "    \n",
    "    </br>\n",
    "\n",
    "4) Добавьте аннотацию. \n",
    "    - Смерджьте датафрейм пиков с датафремом аннотации.\n",
    "    - Отберите только те пики, которые покрывают НАЧАЛО какого-то гена (т.к. регуляция экспрессии обычно происходит в начале гена, нам интересно посмотреть на началах каких генов сидят CTCF и SMC3\n",
    "    - Напечатайте этот датафрейм.\n",
    "\n",
    "    </br>\n",
    "\n",
    "5) Биоинформатика... </br>\n",
    "    А теперь, если бы это были ваши данные, вы бы пошли гуглить, что же за гены оказались потенциально под очень сильным влиянием одновременно и CTCF и SMC3. Но это уже совсем другая история.\n",
    "\n",
    "\n",
    "*(3 балла)*"
   ]
  },
  {
   "cell_type": "code",
   "execution_count": 11,
   "id": "55034dea-8710-405c-aa7b-460cef034e68",
   "metadata": {
    "deletable": false,
    "nbgrader": {
     "cell_type": "code",
     "checksum": "214876c84708d76892e2300be55dc24b",
     "grade": true,
     "grade_id": "cell-c23bca0f835b4cad",
     "locked": false,
     "points": 30,
     "schema_version": 3,
     "solution": true,
     "task": false
    },
    "tags": []
   },
   "outputs": [
    {
     "ename": "NotImplementedError",
     "evalue": "",
     "output_type": "error",
     "traceback": [
      "\u001b[0;31m---------------------------------------------------------------------------\u001b[0m",
      "\u001b[0;31mNotImplementedError\u001b[0m                       Traceback (most recent call last)",
      "Cell \u001b[0;32mIn[11], line 4\u001b[0m\n\u001b[1;32m      1\u001b[0m \u001b[38;5;66;03m# можете создавать доп. ячейки, но, пожалуйста, перед отправкой соберите всё в эту\u001b[39;00m\n\u001b[1;32m      2\u001b[0m \n\u001b[1;32m      3\u001b[0m \u001b[38;5;66;03m# YOUR CODE HERE\u001b[39;00m\n\u001b[0;32m----> 4\u001b[0m \u001b[38;5;28;01mraise\u001b[39;00m \u001b[38;5;167;01mNotImplementedError\u001b[39;00m()\n",
      "\u001b[0;31mNotImplementedError\u001b[0m: "
     ]
    }
   ],
   "source": [
    "# можете создавать доп. ячейки, но, пожалуйста, перед отправкой соберите всё в эту\n",
    "\n",
    "# YOUR CODE HERE\n",
    "raise NotImplementedError()"
   ]
  },
  {
   "cell_type": "markdown",
   "id": "9fdf9299-2c91-46a7-be84-3f94b5bc6ff4",
   "metadata": {
    "deletable": false,
    "editable": false,
    "nbgrader": {
     "cell_type": "markdown",
     "checksum": "a0545369cc2d75b42acd65e1332ceb59",
     "grade": false,
     "grade_id": "cell-598a78173f13cecd",
     "locked": true,
     "schema_version": 3,
     "solution": false,
     "task": false
    },
    "tags": []
   },
   "source": [
    "### Задание 8 📈 Статистическое сравнение данных\n",
    "\n",
    " Данные у вас хранятся в агрегированном виде (координаты сжаты до начал и концов интервалов). В связи с этим невозможно делать статистическое сравнение сигналов, так как, условно, какой-то сигнал задан на интервале в 100 п.н., а какой-то в 1000 п.н.. Поэтому данные придется немного предобработать. \n",
    "\n",
    "1) Возьмите данные RNA-seq. Для экономии ресурсов отберите только 15 хромосому.\n",
    "2) Переведите датафрейм `['chr', 'start', 'stop', 'signalValue']` в `['chr', 'pos', 'signalValue']`, то есть чтобы у вас каждая позиция была записана в явном виде. \n",
    "\n",
    "Было:\n",
    "```python\n",
    "start stop signal\n",
    "1     2    10\n",
    "4     6    100\n",
    "```\n",
    "Стало:\n",
    "```python\n",
    "pos signal\n",
    "1    10\n",
    "2    10\n",
    "4    100\n",
    "5    100\n",
    "6    100\n",
    "```\n",
    "\n",
    "Сделать можно разными путями. Я могу посоветовать например [такое](https://pandas.pydata.org/pandas-docs/stable/reference/api/pandas.DataFrame.explode.html). Для этого нужно иметь одну колонку где все нужные координаты из интервала будут записаны в виде списка (все, а не только начало и конец). Я думаю, что проще всего это будет сделать с помощью `apply` (мы же умеем применять его к строкам) и старого доброго `range` :)\n",
    "\n",
    "\n",
    "3) Статистически интенсивности сигналов РНК-сека на хромосоме 15 между двумя группами образцов. Следите чтобы ваши выводы были корректными.\n",
    "\n",
    "#### Самый главный график\n",
    "\n",
    "4) Нарисуйте 2 боксполта интенсивностей сигналов РНК-сека (в log-шкале по y) и проаннотируйте над ними p-value. Если вызывает трудности, начните [отсюда](https://stackoverflow.com/questions/36578458/how-does-one-insert-statistical-annotations-stars-or-p-values). Можете найти референс в файле `boxplot.png`\n",
    "\n",
    "\n",
    "*(2.5 балла)*"
   ]
  },
  {
   "cell_type": "code",
   "execution_count": null,
   "id": "3e0d2a39-8658-4266-aee5-2d45d82fe878",
   "metadata": {
    "deletable": false,
    "nbgrader": {
     "cell_type": "code",
     "checksum": "9fe39acf6c7676fe899e6f645ccf3a38",
     "grade": true,
     "grade_id": "cell-064ed90e1cda2af5",
     "locked": false,
     "points": 25,
     "schema_version": 3,
     "solution": true,
     "task": false
    },
    "tags": []
   },
   "outputs": [],
   "source": [
    "rnaseq_chr15 = rnaseq[rnaseq['chrom'] == 'chr15']\n",
    "def refseq_rebuild(row):\n",
    "    positions = list(range(row['chromStart'], row['chromEnd'] + 1))\n",
    "    return pd.DataFrame({'chr': ['chr15'] * len(positions),\n",
    "                         'pos': positions,\n",
    "                         'dataValue': [row['dataValue']] * len(positions),\n",
    "                         'sampleType': [row['sampleType']] * len(positions)\n",
    "                        })\n",
    "new_rnaseq_chr15 = pd.concat(rnaseq_chr15.apply(refseq_rebuild, axis=1).to_list(), ignore_index=True)\n",
    "desease = new_rnaseq_chr15[new_rnaseq_chr15['sampleType'] == 'desease']\n",
    "health = new_rnaseq_chr15[new_rnaseq_chr15['sampleType'] == 'health']\n",
    "result = pg.ttest(desease['dataValue'], health['dataValue'])\n",
    "#p-value = 1.595899e-236 => средняя интенсивность сигналов РНК-сека на хромосоме 15 между двумя группами образцов достоверно различается\n"
   ]
  },
  {
   "cell_type": "markdown",
   "id": "9945f441-4341-4661-ad51-bb1ed64ab8a9",
   "metadata": {
    "deletable": false,
    "editable": false,
    "nbgrader": {
     "cell_type": "markdown",
     "checksum": "bb53a824cdef0afca14e04e53a5a4654",
     "grade": false,
     "grade_id": "cell-8101f76cf6368400",
     "locked": true,
     "schema_version": 3,
     "solution": false,
     "task": false
    },
    "tags": []
   },
   "source": [
    "> Получается, мы показали наличие или отсутствие разницы в экспрессии малых РНК в нейронах между здоровыми людьми и пациентами с некоторым нейродегенеративным заболеванием. Осталось найти статьи чтобы проследить связь этих РНК с функциями некоторых конкретных генов и белков - и пожалуйста, у вас уже есть готовые наметки чтобы выстраивать патоэтиологию заболевания. Но это уже совсем другая история."
   ]
  },
  {
   "cell_type": "markdown",
   "id": "ce3e6915-08b8-44c9-92dc-f5494eba1642",
   "metadata": {
    "deletable": false,
    "editable": false,
    "nbgrader": {
     "cell_type": "markdown",
     "checksum": "2f08dd670d3ccf5f953814c04017538f",
     "grade": false,
     "grade_id": "cell-7410aee8cbe80827",
     "locked": true,
     "schema_version": 3,
     "solution": false,
     "task": false
    },
    "tags": []
   },
   "source": [
    "---\n",
    "\n",
    "Надеюсь, у тебя всё получилось! Но в любом случае - ты молодец:)🥳\n",
    "\n",
    "---"
   ]
  }
 ],
 "metadata": {
  "kernelspec": {
   "display_name": "Python 3 (ipykernel)",
   "language": "python",
   "name": "python3"
  },
  "language_info": {
   "codemirror_mode": {
    "name": "ipython",
    "version": 3
   },
   "file_extension": ".py",
   "mimetype": "text/x-python",
   "name": "python",
   "nbconvert_exporter": "python",
   "pygments_lexer": "ipython3",
   "version": "3.9.18"
  }
 },
 "nbformat": 4,
 "nbformat_minor": 5
}
